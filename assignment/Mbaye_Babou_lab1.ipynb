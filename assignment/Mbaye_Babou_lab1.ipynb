{
  "nbformat": 4,
  "nbformat_minor": 0,
  "metadata": {
    "accelerator": "TPU",
    "colab": {
      "name": "Mbaye_Babou_lab1.ipynb",
      "provenance": [],
      "collapsed_sections": [
        "N4UnbCdcqHPu"
      ]
    },
    "kernelspec": {
      "name": "python3",
      "display_name": "Python 3"
    },
    "language_info": {
      "codemirror_mode": {
        "name": "ipython",
        "version": 3
      },
      "file_extension": ".py",
      "mimetype": "text/x-python",
      "name": "python",
      "nbconvert_exporter": "python",
      "pygments_lexer": "ipython3",
      "version": "3.7.4"
    }
  },
  "cells": [
    {
      "cell_type": "markdown",
      "metadata": {
        "colab_type": "text",
        "id": "uzAMazBhyO7O"
      },
      "source": [
        "# AMMI Deep Natural Language Processing: Lab 1"
      ]
    },
    {
      "cell_type": "markdown",
      "metadata": {
        "colab_type": "text",
        "id": "z2oBLu8PyV1V"
      },
      "source": [
        "## 0. Introduction"
      ]
    },
    {
      "cell_type": "markdown",
      "metadata": {
        "colab_type": "text",
        "id": "NHed26lWcGwQ"
      },
      "source": [
        "In this tutorial we will train neural networks on the bAbI tasks using ParlAI framework.  \n",
        "This tutorial can be run both in google colab or on your computer.  \n",
        "The solutions will be added during the lab [here](https://fburl.com/ammi_dnlp_lab1).  \n",
        "\n",
        "We will cover the following:\n",
        "0. Introduction\n",
        "    - Introduction to ParlAI and installation\n",
        "    - Introduction to the bAbI tasks\n",
        "1. Exploring the data:\n",
        "    - Compute some statistics (number of examples in train, valid, test, size of examples...)\n",
        "    - Look at some examples\n",
        "2. Choose the appropriate metrics\n",
        "3. Baselines\n",
        "    - Ranom baseline\n",
        "    - Majority class baseline\n",
        "    - Information retrieval baseline\n",
        "4. More elaborate models\n",
        "   - Generative model: Seq2Seq\n",
        "   - Ranking model: Memory Network\n",
        "5. To go further\n",
        "    - Additional ideas to try if you want to dig deeper\n",
        "\n",
        "### ParlAI\n",
        "[ParlAI](https://github.com/facebookresearch/ParlAI/blob/master/README.md) (pronounced “par-lay”) is a framework for dialogue AI research, implemented in Python.\n",
        "\n",
        "Its goal is to provide researchers:\n",
        "\n",
        "* a unified framework for sharing, training and testing dialogue models\n",
        "* many popular datasets available all in one place -- from open-domain chitchat to visual question answering.\n",
        "* a wide set of reference models -- from retrieval baselines to Transformers.\n",
        "* seamless integration of Amazon Mechanical Turk for data collection and human evaluation\n",
        "* integration with Facebook Messenger to connect agents with humans in a chat interface\n",
        "\n",
        "Documentation can be found [here](http://www.parl.ai/static/docs/), some of this tutorial is inspired from the ParlAI documentation so feel free to go back and forth between the notebook and the documentation.\n",
        "\n",
        "\n",
        "### Setup the notebook\n",
        "If using google colab, make sure to use TPU runtime by going to ***Runtime > Change runtime type > Hardware accelerator: TPU > Save***"
      ]
    },
    {
      "cell_type": "markdown",
      "metadata": {
        "colab_type": "text",
        "id": "-k8BZE3HJaut"
      },
      "source": [
        "### Install ParlAI\n",
        "\n",
        "Start by installing ParlAI from github. The ParlAI folder will be located in the home directory at `~/ParlAI/`.  \n",
        "*Note: In a jupyter notebook, you can run arbitrary bash commands by prefixing them with a question mark, example: `!echo \"Hello World\"`*"
      ]
    },
    {
      "cell_type": "code",
      "metadata": {
        "colab_type": "code",
        "id": "l8V7QcnMI7Wk",
        "colab": {}
      },
      "source": [
        "# Remove `> /dev/null` to see the output of commands\n",
        "# !git clone https://github.com/facebookresearch/ParlAI.git ~/ParlAI  > /dev/null\n",
        "# !cd ~/ParlAI && git checkout 6bd0e58692b3fd3a13b5f654944525ac1b7cd8e3\n",
        "# !cd ~/ParlAI && python3 setup.py develop > /dev/null"
      ],
      "execution_count": 0,
      "outputs": []
    },
    {
      "cell_type": "markdown",
      "metadata": {
        "colab_type": "text",
        "id": "EJDOC-zsL3wR"
      },
      "source": [
        "Most of the scripts that we will use in ParlAI are located in the `~/ParlAI/examples` directory.  \n",
        "Let's have a first glance at the scripts available, we will come back to them later:"
      ]
    },
    {
      "cell_type": "code",
      "metadata": {
        "colab_type": "code",
        "id": "bIMjwxKrLm36",
        "outputId": "5606f335-833e-404a-d89e-31bc03117ffb",
        "colab": {
          "base_uri": "https://localhost:8080/",
          "height": 104
        }
      },
      "source": [
        "!ls ~/ParlAI/examples/"
      ],
      "execution_count": 0,
      "outputs": [
        {
          "output_type": "stream",
          "text": [
            "base_train.py\t       eval_model.py\t\t remote.py\n",
            "build_dict.py\t       extract_image_feature.py  seq2seq_train_babi.py\n",
            "build_pytorch_data.py  interactive.py\t\t train_model.py\n",
            "display_data.py        profile_train.py\n",
            "display_model.py       README.md\n"
          ],
          "name": "stdout"
        }
      ]
    },
    {
      "cell_type": "markdown",
      "metadata": {
        "colab_type": "text",
        "id": "N4UnbCdcqHPu"
      },
      "source": [
        "### The bAbI tasks\n",
        "Many datasets and tasks are included in ParlAI, we will focus on the bAbI tasks.\n",
        "The bAbI tasks are 20 synthetic tasks that each test a unique aspect of text and reasoning, and hence test different capabilities of learning models from [Weston et al. ‘16](http://arxiv.org/abs/1502.05698).\n",
        "\n",
        "---\n",
        "**Question 0.**  \n",
        "Open the bAbI [paper](https://arxiv.org/pdf/1502.05698.pdf) and read the abstract  and section: *\"3 The Tasks\"* (until paragraph **Two or Three Supporting Facts**,  included).  \n",
        "- **0.a.** Explain in your own words the motivations behind these tasks (in 2-3 sentences).\n",
        "\n",
        "*The motivation behind these task is to provide powerful techniques for measuring the performence of any machine reading system. Since most of tasks that allowed resecher to evaluate their modelt s are quite difficult and expensive. So, that motivate to providing differents tasks that allow to interpret results based on well defined datasets. *\n",
        "\n",
        "---\n",
        "\n",
        "These tasks can be downloaded and used directly from ParlAI.  \n",
        "We will focus on tasks 1, 2 and 3, see examples below:\n",
        "\n",
        "\n",
        "**Task 1: Single Supporting Fact**  \n",
        "Mary went to the bathroom.  \n",
        "John moved to the hallway.  \n",
        "Mary travelled to the office.  \n",
        "Where is Mary?  \n",
        "**Answer: office**  \n",
        "\n",
        "\n",
        "**Task 2: Two Supporting Facts**  \n",
        "John is in the playground.  \n",
        "John picked up the football.  \n",
        "Bob went to the kitchen.  \n",
        "Where is the football?  \n",
        "**Answer: playground**\n",
        "\n",
        "\n",
        "**Task 3: Three Supporting Facts **  \n",
        "John picked up the apple.  \n",
        "John went to the office.  \n",
        "John went to the kitchen.  \n",
        "John dropped the apple.   \n",
        "Where was the apple before the kitchen?  \n",
        "**Answer: office**\n",
        "\n"
      ]
    },
    {
      "cell_type": "markdown",
      "metadata": {
        "colab_type": "text",
        "id": "L6IZA9r0MjBd"
      },
      "source": [
        "## 1. Exploring the data"
      ]
    },
    {
      "cell_type": "markdown",
      "metadata": {
        "colab_type": "text",
        "id": "1Cc-Si6SyatK"
      },
      "source": [
        "First we need to download the data, we will use the `build_dict.py` as a dummy task to download the data."
      ]
    },
    {
      "cell_type": "code",
      "metadata": {
        "colab_type": "code",
        "id": "XAEH7xUXtxFj",
        "outputId": "2d4bab6b-027a-4ce8-bbac-e44997d5e9be",
        "colab": {
          "base_uri": "https://localhost:8080/",
          "height": 1000
        }
      },
      "source": [
        "# Download the data silently\n",
        "!python ~/ParlAI/examples/build_dict.py --task babi:task1k:1 --dict-file /tmp/babi1.dict\n",
        "# Print a few examples\n",
        "!head -n 30 ~/ParlAI/data/bAbI/tasks_1-20_v1-2/en-valid-10k-nosf/qa1_train.txt"
      ],
      "execution_count": 0,
      "outputs": [
        {
          "output_type": "stream",
          "text": [
            "[ Main ParlAI Arguments: ] \n",
            "[  batchsize: 1 ]\n",
            "[  datapath: /root/ParlAI/data ]\n",
            "[  datatype: train ]\n",
            "[  download_path: /root/ParlAI/downloads ]\n",
            "[  hide_labels: False ]\n",
            "[  image_mode: raw ]\n",
            "[  multitask_weights: [1] ]\n",
            "[  numthreads: 1 ]\n",
            "[  show_advanced_args: False ]\n",
            "[  task: babi:task1k:1 ]\n",
            "[ ParlAI Model Arguments: ] \n",
            "[  dict_class: None ]\n",
            "[  init_model: None ]\n",
            "[  model: None ]\n",
            "[  model_file: None ]\n",
            "[ PytorchData Arguments: ] \n",
            "[  batch_length_range: 5 ]\n",
            "[  batch_sort_cache_type: pop ]\n",
            "[  batch_sort_field: text ]\n",
            "[  numworkers: 4 ]\n",
            "[  pytorch_context_length: -1 ]\n",
            "[  pytorch_datapath: None ]\n",
            "[  pytorch_include_labels: True ]\n",
            "[  pytorch_preprocess: False ]\n",
            "[  pytorch_teacher_batch_sort: False ]\n",
            "[  pytorch_teacher_dataset: None ]\n",
            "[  pytorch_teacher_task: None ]\n",
            "[  shuffle: False ]\n",
            "[ Dictionary Loop Arguments: ] \n",
            "[  dict_include_test: False ]\n",
            "[  dict_include_valid: False ]\n",
            "[  dict_maxexs: -1 ]\n",
            "[  log_every_n_secs: 2 ]\n",
            "[ Dictionary Arguments: ] \n",
            "[  bpe_debug: False ]\n",
            "[  dict_endtoken: __end__ ]\n",
            "[  dict_file: /tmp/babi1.dict ]\n",
            "[  dict_initpath: None ]\n",
            "[  dict_language: english ]\n",
            "[  dict_lower: False ]\n",
            "[  dict_max_ngram_size: -1 ]\n",
            "[  dict_maxtokens: -1 ]\n",
            "[  dict_minfreq: 0 ]\n",
            "[  dict_nulltoken: __null__ ]\n",
            "[  dict_starttoken: __start__ ]\n",
            "[  dict_textfields: text,labels ]\n",
            "[  dict_tokenizer: re ]\n",
            "[  dict_unktoken: __unk__ ]\n",
            "[ ParlAI Image Preprocessing Arguments: ] \n",
            "[  image_cropsize: 224 ]\n",
            "[  image_size: 256 ]\n",
            "[creating task(s): babi:task1k:1]\n",
            "[building data: /root/ParlAI/data/bAbI]\n",
            "[ downloading: http://parl.ai/downloads/babi/babi.tar.gz to /root/ParlAI/data/bAbI/babi.tar.gz ]\n",
            "Downloading babi.tar.gz: 100% 19.2M/19.2M [00:01<00:00, 12.2MB/s]\n",
            "unpacking babi.tar.gz\n",
            "[ running dictionary over data.. ]\n",
            "[loading fbdialog data:/root/ParlAI/data/bAbI/tasks_1-20_v1-2/en-valid-nosf/qa1_train.txt]\n",
            "Building dictionary:   0% 0.00/900 [00:00<?, ?ex/s][loading fbdialog data:/root/ParlAI/data/bAbI/tasks_1-20_v1-2/en-valid-nosf/qa1_train.txt]\n",
            "[loading fbdialog data:/root/ParlAI/data/bAbI/tasks_1-20_v1-2/en-valid-nosf/qa1_train.txt]\n",
            "Building dictionary: 100% 900/900 [00:00<00:00, 24.6kex/s]\n",
            "Dictionary: saving dictionary to /tmp/babi1.dict\n",
            "[ dictionary built with 26 tokens in 0s ]\n",
            "1 Mary moved to the bathroom.\n",
            "2 John went to the hallway.\n",
            "3 Where is Mary? \tbathroom\n",
            "4 Daniel went back to the hallway.\n",
            "5 Sandra moved to the garden.\n",
            "6 Where is Daniel? \thallway\n",
            "7 John moved to the office.\n",
            "8 Sandra journeyed to the bathroom.\n",
            "9 Where is Daniel? \thallway\n",
            "10 Mary moved to the hallway.\n",
            "11 Daniel travelled to the office.\n",
            "12 Where is Daniel? \toffice\n",
            "13 John went back to the garden.\n",
            "14 John moved to the bedroom.\n",
            "15 Where is Sandra? \tbathroom\n",
            "1 Mary went to the bedroom.\n",
            "2 John journeyed to the bathroom.\n",
            "3 Where is John? \tbathroom\n",
            "4 Sandra journeyed to the hallway.\n",
            "5 John journeyed to the garden.\n",
            "6 Where is Mary? \tbedroom\n",
            "7 John journeyed to the bathroom.\n",
            "8 Sandra journeyed to the garden.\n",
            "9 Where is John? \tbathroom\n",
            "10 Sandra went back to the bedroom.\n",
            "11 Daniel travelled to the bathroom.\n",
            "12 Where is John? \tbathroom\n",
            "13 John went to the office.\n",
            "14 Mary moved to the office.\n",
            "15 Where is Sandra? \tbedroom\n"
          ],
          "name": "stdout"
        }
      ]
    },
    {
      "cell_type": "markdown",
      "metadata": {
        "colab_type": "text",
        "id": "vbc5n2xpPnsb"
      },
      "source": [
        "The bAbI tasks were downloaded in `~/ParlAI/data/bAbI/tasks_1-20_v1-2/en-valid-nosf/`\n",
        "\n",
        "In bAbI the data is organised as follows:\n",
        "- **Dialog turn**: A dialog turn is a single utterance / statement. Each line in the file corresponds to one dialog turn.   \n",
        "  Example: *\"John went to the office.\"*\n",
        "- **Sample (question)**: Every few dialog turns, a question can be asked that the model has to answer, this consitute a sample.  The question is followed by its ground truth answer, separated by a tab.\n",
        "  Example: *\"Where is John? `<tab>` bathroom\"*\n",
        "- **Episode**: a sequence of ordered coherent dialog turns that are related to each other form an episode. Each new episode is independant of the others. Each line starts with the dialog turn number in the current episode.\n",
        "\n",
        "\n",
        "---\n",
        "**Question 1.**\n",
        "- **1.a.** Look at the training file of task 1 (`~/ParlAI/data/bAbI/tasks_1-20_v1-2/en/qa1_train.txt`) and compute the following information:\n",
        "  - Number of episodes\n",
        "  - Number of  samples (questions)\n",
        "  - Number of dialog turns per episode\n",
        "  - How many different answers are there in the train set? How many times does each appear? (*hint: Use a python [counter](https://docs.python.org/3/library/collections.html#collections.Counter)*)\n",
        "  - How many unique words appear in the training set? How many time does each appear? (*hint: Use the Counter `most_common()` method*)\n",
        "\n",
        "*Print the answer in the following code cell*\n",
        "  \n",
        "  ---"
      ]
    },
    {
      "cell_type": "code",
      "metadata": {
        "colab_type": "code",
        "id": "nk7B40wOf8nU",
        "outputId": "32ab1308-f9da-4b4d-e1e6-131f2514949f",
        "colab": {
          "base_uri": "https://localhost:8080/",
          "height": 158
        }
      },
      "source": [
        "# FILL THIS CELL\n",
        "from collections import Counter\n",
        "\n",
        "\n",
        "task_1_train_path = '/root/ParlAI/data/bAbI/tasks_1-20_v1-2/en-valid-10k-nosf/qa1_train.txt'\n",
        "\n",
        "i = 0\n",
        "n_episodes = 0\n",
        "n_questions = 0\n",
        "n_total_dialog_turns = 0\n",
        "possible_answers = Counter()\n",
        "possible_answers_dict = {}\n",
        "vocabulary = Counter()\n",
        "with open(task_1_train_path, 'r') as f:\n",
        "    # FILL CODE HERE\n",
        "    \n",
        "    for line in f:\n",
        "      dialog_turn = int(line.split(' ')[0])\n",
        "      if dialog_turn == 1:\n",
        "        n_episodes +=1\n",
        "      # Remove the dialog turn num\n",
        "      line = ' '.join(line.split(' ')[1:])\n",
        "      fields = line.split('\\t')\n",
        "      if len(fields)>1:\n",
        "        n_questions +=1\n",
        "        possible_answers.update([fields[1]])\n",
        "      vocabulary.update(fields[0].split(' '))\n",
        "      n_total_dialog_turns +=1\n",
        "\n",
        "print(f'Number of episodes: {n_episodes}')\n",
        "print(f'Number of questions: {n_questions}')\n",
        "print(f'Number of dialog turn per episode: {n_total_dialog_turns/n_episodes}')\n",
        "print(f'Accuracy of a random model: {1/len(possible_answers): 4f}')\n",
        "print(f'Possible answers: {possible_answers} ({len(possible_answers)})')\n",
        "print(f'Vocabulary size: {n_episodes}')\n",
        "print(f'Most common word: {vocabulary.most_common()}')\n",
        "\n",
        "      # print(line)\n",
        "      # break"
      ],
      "execution_count": 0,
      "outputs": [
        {
          "output_type": "stream",
          "text": [
            "Number of episodes: 1800\n",
            "Number of questions: 9000\n",
            "Number of dialog turn per episode: 15.0\n",
            "Accuracy of a random model:  0.166667\n",
            "Possible answers: Counter({'bathroom\\n': 1564, 'hallway\\n': 1517, 'garden\\n': 1508, 'bedroom\\n': 1473, 'kitchen\\n': 1471, 'office\\n': 1467}) (6)\n",
            "Vocabulary size: 1800\n",
            "Most common word: [('to', 18000), ('the', 18000), ('Where', 9000), ('is', 9000), ('', 9000), ('went', 7225), ('Mary', 4535), ('Sandra', 4502), ('John', 4484), ('Daniel', 4479), ('journeyed', 3620), ('travelled', 3582), ('back', 3581), ('moved', 3573), ('bathroom.\\n', 3070), ('hallway.\\n', 3045), ('garden.\\n', 2982), ('kitchen.\\n', 2981), ('office.\\n', 2963), ('bedroom.\\n', 2959), ('John?', 2299), ('Mary?', 2265), ('Sandra?', 2244), ('Daniel?', 2192)]\n"
          ],
          "name": "stdout"
        }
      ]
    },
    {
      "cell_type": "markdown",
      "metadata": {
        "colab_type": "text",
        "id": "XNYNtDHiuVq8"
      },
      "source": [
        "\n",
        "- **2.b.** Use the appropriate script from the `~/ParlAI/examples/` to take a quick look at examples of the first bAbI task.  \n",
        "Does the number of episodes and examples fit what you computed before? (*hint: you can use the argument `--task babi:task1k:1` to select the first babi task*)"
      ]
    },
    {
      "cell_type": "code",
      "metadata": {
        "colab_type": "code",
        "id": "f6HlIvzGgKv2",
        "outputId": "da3f9ee4-3e95-4f03-c3ba-13897852e946",
        "colab": {
          "base_uri": "https://localhost:8080/",
          "height": 1000
        }
      },
      "source": [
        "# FILL THIS CELL\n",
        "#Solution\n",
        "\n",
        "!python ~/ParlAI/examples/display_data.py --task babi:task10k:1"
      ],
      "execution_count": 0,
      "outputs": [
        {
          "output_type": "stream",
          "text": [
            "[ optional arguments: ] \n",
            "[  display_ignore_fields: agent_reply ]\n",
            "[  max_display_len: 1000 ]\n",
            "[  num_examples: 10 ]\n",
            "[ Main ParlAI Arguments: ] \n",
            "[  batchsize: 1 ]\n",
            "[  datapath: /root/ParlAI/data ]\n",
            "[  datatype: train:stream ]\n",
            "[  download_path: /root/ParlAI/downloads ]\n",
            "[  hide_labels: False ]\n",
            "[  image_mode: raw ]\n",
            "[  multitask_weights: [1] ]\n",
            "[  numthreads: 1 ]\n",
            "[  show_advanced_args: False ]\n",
            "[  task: babi:task10k:1 ]\n",
            "[ ParlAI Model Arguments: ] \n",
            "[  dict_class: None ]\n",
            "[  init_model: None ]\n",
            "[  model: None ]\n",
            "[  model_file: None ]\n",
            "[ PytorchData Arguments: ] \n",
            "[  batch_length_range: 5 ]\n",
            "[  batch_sort_cache_type: pop ]\n",
            "[  batch_sort_field: text ]\n",
            "[  numworkers: 4 ]\n",
            "[  pytorch_context_length: -1 ]\n",
            "[  pytorch_datapath: None ]\n",
            "[  pytorch_include_labels: True ]\n",
            "[  pytorch_preprocess: False ]\n",
            "[  pytorch_teacher_batch_sort: False ]\n",
            "[  pytorch_teacher_dataset: None ]\n",
            "[  pytorch_teacher_task: None ]\n",
            "[  shuffle: False ]\n",
            "[ ParlAI Image Preprocessing Arguments: ] \n",
            "[  image_cropsize: 224 ]\n",
            "[  image_size: 256 ]\n",
            "[creating task(s): babi:task10k:1]\n",
            "[loading fbdialog data:/root/ParlAI/data/bAbI/tasks_1-20_v1-2/en-valid-10k-nosf/qa1_train.txt]\n",
            "[loading fbdialog data:/root/ParlAI/data/bAbI/tasks_1-20_v1-2/en-valid-10k-nosf/qa1_train.txt]\n",
            "[babi:task10k:1]: Mary moved to the bathroom.\n",
            "John went to the hallway.\n",
            "Where is Mary?\n",
            "[label_candidates: hallway|bathroom|office|bedroom|kitchen|...and 1 more]\n",
            "[labels: bathroom]\n",
            "~~\n",
            "[babi:task10k:1]: Daniel went back to the hallway.\n",
            "Sandra moved to the garden.\n",
            "Where is Daniel?\n",
            "[label_candidates: hallway|bathroom|office|bedroom|kitchen|...and 1 more]\n",
            "[labels: hallway]\n",
            "~~\n",
            "[babi:task10k:1]: John moved to the office.\n",
            "Sandra journeyed to the bathroom.\n",
            "Where is Daniel?\n",
            "[label_candidates: hallway|bathroom|office|bedroom|kitchen|...and 1 more]\n",
            "[labels: hallway]\n",
            "~~\n",
            "[babi:task10k:1]: Mary moved to the hallway.\n",
            "Daniel travelled to the office.\n",
            "Where is Daniel?\n",
            "[label_candidates: hallway|bathroom|office|bedroom|kitchen|...and 1 more]\n",
            "[labels: office]\n",
            "~~\n",
            "[babi:task10k:1]: John went back to the garden.\n",
            "John moved to the bedroom.\n",
            "Where is Sandra?\n",
            "[label_candidates: hallway|bathroom|office|bedroom|kitchen|...and 1 more]\n",
            "[labels: bathroom]\n",
            "- - - - - - - - - - - - - - - - - - - - -\n",
            "~~\n",
            "[babi:task10k:1]: Mary went to the bedroom.\n",
            "John journeyed to the bathroom.\n",
            "Where is John?\n",
            "[label_candidates: hallway|bathroom|office|bedroom|kitchen|...and 1 more]\n",
            "[labels: bathroom]\n",
            "~~\n",
            "[babi:task10k:1]: Sandra journeyed to the hallway.\n",
            "John journeyed to the garden.\n",
            "Where is Mary?\n",
            "[label_candidates: hallway|bathroom|office|bedroom|kitchen|...and 1 more]\n",
            "[labels: bedroom]\n",
            "~~\n",
            "[babi:task10k:1]: John journeyed to the bathroom.\n",
            "Sandra journeyed to the garden.\n",
            "Where is John?\n",
            "[label_candidates: hallway|bathroom|office|bedroom|kitchen|...and 1 more]\n",
            "[labels: bathroom]\n",
            "~~\n",
            "[babi:task10k:1]: Sandra went back to the bedroom.\n",
            "Daniel travelled to the bathroom.\n",
            "Where is John?\n",
            "[label_candidates: hallway|bathroom|office|bedroom|kitchen|...and 1 more]\n",
            "[labels: bathroom]\n",
            "~~\n",
            "[babi:task10k:1]: John went to the office.\n",
            "Mary moved to the office.\n",
            "Where is Sandra?\n",
            "[label_candidates: hallway|bathroom|office|bedroom|kitchen|...and 1 more]\n",
            "[labels: bedroom]\n",
            "- - - - - - - - - - - - - - - - - - - - -\n",
            "~~\n",
            "[ loaded 1800 episodes with a total of 9000 examples ]\n"
          ],
          "name": "stdout"
        }
      ]
    },
    {
      "cell_type": "markdown",
      "metadata": {
        "colab_type": "text",
        "id": "TovRmKOA858i"
      },
      "source": [
        "## 2. Metrics"
      ]
    },
    {
      "cell_type": "markdown",
      "metadata": {
        "colab_type": "text",
        "id": "g9NV_vBlPSWP"
      },
      "source": [
        "The bAbI task 1 expects single word answers among a small set of possible answers.\n",
        "\n",
        "\n",
        "---\n",
        "**Question 2**  \n",
        "- **2.a.** Which metrics do you think are appropriate for evaluating a model on this task?   \n",
        "-  **2.b.**  What are their respective strengths?  \n",
        "-  **2.c.** When do they fail? (find specific examples)  \n",
        "\n",
        "**Answer 2** \n",
        "- **2.a.** The accuracy and BLEU metrics are appropriate for evaluation a model on this task.\n",
        "-  **2.b.** The accuracy metrics is very easy to compute and simple to verify percentage of correct answers base on the total number of questions.\n",
        "The BLEU metrics is fast and easy to calculate, it make easy the comparison of the model with a benchmark. \n",
        "-  **2.c.** The accuracy is not sufficient to ensure the model performence on unseen data. So it can fail when we want to evaluate the prediction of data the was not seen.\n",
        "The BLEU can fail when the the same question is asked with other word because it doesn't consider meaning and setence structure.\n",
        "\n",
        "\n",
        "\n",
        "\n",
        "---"
      ]
    },
    {
      "cell_type": "markdown",
      "metadata": {
        "colab_type": "text",
        "id": "0_MZKCTW6fh9"
      },
      "source": [
        "## 3. Baseline\n",
        "\n"
      ]
    },
    {
      "cell_type": "markdown",
      "metadata": {
        "colab_type": "text",
        "id": "RSexIY71yiD6"
      },
      "source": [
        "We now have a clearer idea of the data distribution and the metrics that we can use.  \n",
        "The next step is to start solving the tasks with a simple baseline. This will allow us to compare more elaborate models agains this baseline.  \n",
        "Here are a few classical baselines:\n",
        "- **Random model**: The model answers randomly among the set of possible answers for each question\n",
        "-  **Majority class**: The model always answers with the most frequent answer in the training set (majority class)\n",
        "\n",
        "We are going to reimplement these own baselines.  \n",
        "Implementing a new model in ParlAI is detailed in the [tutorial](http://parl.ai/static/docs/seq2seq_tutorial.html) but for our simple baselines, we will only need to inherit the [Agent](https://github.com/facebookresearch/ParlAI/blob/6d246842d3f4e941dd3806f3d9fa62f607d48f59/parlai/core/agents.py#L50) class and override the `act()` method.\n",
        "\n",
        "---\n",
        "**Question 3**  \n",
        "- **3.a.** What would be the accuracy of a model that choses a random answer among the set of possible answers for each question? \n",
        "\n",
        "**Answer 3**\n",
        "- **3.a.** The accuarcy of a model that choses a random answer among the set of possible answers for each question could be very small because the probablility of getting the correct answer is still not big.\n",
        "\n",
        "---\n",
        "\n",
        "*Note: the `%%writefile` magic command in jupyter writes the content of the cell to a file at the given path.*"
      ]
    },
    {
      "cell_type": "code",
      "metadata": {
        "colab_type": "code",
        "id": "9ahmFL0Rk6g1",
        "colab": {}
      },
      "source": [
        "!mkdir -p ~/ParlAI/parlai/agents/baseline/\n",
        "!touch ~/ParlAI/parlai/agents/baseline/random.py\n",
        "!touch ~/ParlAI/parlai/agents/baseline/majorityclass.py"
      ],
      "execution_count": 0,
      "outputs": []
    },
    {
      "cell_type": "markdown",
      "metadata": {
        "colab_type": "text",
        "id": "mZLM7DtkkJN1"
      },
      "source": [
        "- **3.b.**  Design a baseline that answers a random word in the set of possible answer (run it multiple time to observe variance in results)."
      ]
    },
    {
      "cell_type": "code",
      "metadata": {
        "colab_type": "code",
        "id": "Zx4emBSPjmE-",
        "outputId": "9e2d463d-86af-44cd-8e2d-21df1b90d316",
        "colab": {
          "base_uri": "https://localhost:8080/",
          "height": 35
        }
      },
      "source": [
        "# FILL THIS CELL\n",
        "%%writefile ~/ParlAI/parlai/agents/baseline/random.py\n",
        "import random\n",
        "\n",
        "from parlai.core.torch_agent import Agent\n",
        "\n",
        "\n",
        "class RandomAgent(Agent):\n",
        "  \n",
        "    def act(self):\n",
        "        #Solution\n",
        "        if 'label_candidates' not in self.observation:\n",
        "            return\n",
        "        candidates = list(self.observation['label_candidates'])\n",
        "        reply = {'text': candidates[random.randrange(len(candidates))]}\n",
        "        return reply"
      ],
      "execution_count": 0,
      "outputs": [
        {
          "output_type": "stream",
          "text": [
            "Overwriting /root/ParlAI/parlai/agents/baseline/random.py\n"
          ],
          "name": "stdout"
        }
      ]
    },
    {
      "cell_type": "code",
      "metadata": {
        "colab_type": "code",
        "id": "dMOWxgVj1Joz",
        "outputId": "fdbc2380-9fef-49bc-a854-f534425ddda3",
        "colab": {
          "base_uri": "https://localhost:8080/",
          "height": 35
        }
      },
      "source": [
        "!python ~/ParlAI/examples/eval_model.py -t babi:task10k:1 -m baseline/random | grep accuracy -A 1"
      ],
      "execution_count": 0,
      "outputs": [
        {
          "output_type": "stream",
          "text": [
            "{'exs': 1000, 'accuracy': 0.17, 'f1': 0.17, 'bleu': 1.7e-10}\n"
          ],
          "name": "stdout"
        }
      ]
    },
    {
      "cell_type": "code",
      "metadata": {
        "colab_type": "code",
        "id": "oVs3pOKE2-WE",
        "outputId": "99c55c43-a793-4104-9585-708d930e5474",
        "colab": {
          "base_uri": "https://localhost:8080/",
          "height": 1000
        }
      },
      "source": [
        "!python ~/ParlAI/examples/display_model.py -t babi:task10k:1 -m baseline/random -n 10 "
      ],
      "execution_count": 0,
      "outputs": [
        {
          "output_type": "stream",
          "text": [
            "[ optional arguments: ] \n",
            "[  display_ignore_fields:  ]\n",
            "[  num_examples: 10 ]\n",
            "[ Main ParlAI Arguments: ] \n",
            "[  batchsize: 1 ]\n",
            "[  datapath: /root/ParlAI/data ]\n",
            "[  datatype: valid ]\n",
            "[  download_path: /root/ParlAI/downloads ]\n",
            "[  hide_labels: False ]\n",
            "[  image_mode: raw ]\n",
            "[  multitask_weights: [1] ]\n",
            "[  numthreads: 1 ]\n",
            "[  show_advanced_args: False ]\n",
            "[  task: babi:task10k:1 ]\n",
            "[ ParlAI Model Arguments: ] \n",
            "[  dict_class: None ]\n",
            "[  init_model: None ]\n",
            "[  model: baseline/random ]\n",
            "[  model_file: None ]\n",
            "[ ParlAI Image Preprocessing Arguments: ] \n",
            "[  image_cropsize: 224 ]\n",
            "[  image_size: 256 ]\n",
            "[creating task(s): babi:task10k:1]\n",
            "[loading fbdialog data:/root/ParlAI/data/bAbI/tasks_1-20_v1-2/en-valid-10k-nosf/qa1_valid.txt]\n",
            "[babi:task10k:1]: Sandra travelled to the office.\n",
            "Sandra went to the bathroom.\n",
            "Where is Sandra?\n",
            "[eval_labels: bathroom]\n",
            "[label_candidates: hallway|bedroom|office|bathroom|kitchen|...and 1 more]\n",
            "   garden\n",
            "~~\n",
            "[babi:task10k:1]: Mary went to the bedroom.\n",
            "Daniel moved to the hallway.\n",
            "Where is Sandra?\n",
            "[eval_labels: bathroom]\n",
            "[label_candidates: hallway|bedroom|office|bathroom|kitchen|...and 1 more]\n",
            "   hallway\n",
            "~~\n",
            "[babi:task10k:1]: John went to the garden.\n",
            "John travelled to the office.\n",
            "Where is Sandra?\n",
            "[eval_labels: bathroom]\n",
            "[label_candidates: hallway|bedroom|office|bathroom|kitchen|...and 1 more]\n",
            "   hallway\n",
            "~~\n",
            "[babi:task10k:1]: Daniel journeyed to the bedroom.\n",
            "Daniel travelled to the hallway.\n",
            "Where is John?\n",
            "[eval_labels: office]\n",
            "[label_candidates: hallway|bedroom|office|bathroom|kitchen|...and 1 more]\n",
            "   garden\n",
            "~~\n",
            "[babi:task10k:1]: John went to the bedroom.\n",
            "John travelled to the office.\n",
            "Where is Daniel?\n",
            "[eval_labels: hallway]\n",
            "[label_candidates: hallway|bedroom|office|bathroom|kitchen|...and 1 more]\n",
            "   office\n",
            "- - - - - - - - - - - - - - - - - - - - -\n",
            "~~\n",
            "[babi:task10k:1]: Sandra went back to the bathroom.\n",
            "Mary moved to the garden.\n",
            "Where is Mary?\n",
            "[eval_labels: garden]\n",
            "[label_candidates: hallway|bedroom|office|bathroom|kitchen|...and 1 more]\n",
            "   bedroom\n",
            "~~\n",
            "[babi:task10k:1]: Mary went back to the hallway.\n",
            "Sandra went to the office.\n",
            "Where is Sandra?\n",
            "[eval_labels: office]\n",
            "[label_candidates: hallway|bedroom|office|bathroom|kitchen|...and 1 more]\n",
            "   bedroom\n",
            "~~\n",
            "[babi:task10k:1]: John went back to the hallway.\n",
            "John travelled to the office.\n",
            "Where is Sandra?\n",
            "[eval_labels: office]\n",
            "[label_candidates: hallway|bedroom|office|bathroom|kitchen|...and 1 more]\n",
            "   bedroom\n",
            "~~\n",
            "[babi:task10k:1]: Sandra journeyed to the hallway.\n",
            "Daniel moved to the office.\n",
            "Where is John?\n",
            "[eval_labels: office]\n",
            "[label_candidates: hallway|bedroom|office|bathroom|kitchen|...and 1 more]\n",
            "   garden\n",
            "~~\n",
            "[babi:task10k:1]: Mary went to the office.\n",
            "Sandra went to the office.\n",
            "Where is John?\n",
            "[eval_labels: office]\n",
            "[label_candidates: hallway|bedroom|office|bathroom|kitchen|...and 1 more]\n",
            "   hallway\n",
            "- - - - - - - - - - - - - - - - - - - - -\n",
            "~~\n"
          ],
          "name": "stdout"
        }
      ]
    },
    {
      "cell_type": "markdown",
      "metadata": {
        "colab_type": "text",
        "id": "3UnE4oVakR4k"
      },
      "source": [
        "- **3.c.**  Design a baseline that answers the most common answer every time (majority class baseline)."
      ]
    },
    {
      "cell_type": "code",
      "metadata": {
        "colab_type": "code",
        "id": "hHIV2NUzGzQc",
        "outputId": "fd9fc49e-1eb2-4bb9-b8fb-131aaeae115d",
        "colab": {
          "base_uri": "https://localhost:8080/",
          "height": 35
        }
      },
      "source": [
        "# FILL THIS CELL\n",
        "%%writefile ~/ParlAI/parlai/agents/baseline/majorityclass.py\n",
        "import random\n",
        "\n",
        "from parlai.core.torch_agent import Agent\n",
        "\n",
        "\n",
        "class MajorityclassAgent(Agent):\n",
        "  \n",
        "    def act(self):\n",
        "        # Solution\n",
        "        if 'label_candidates' not in self.observation:\n",
        "            return\n",
        "        candidates = list(self.observation['label_candidates'])\n",
        "        reply = {'text': 'bathroom'}\n",
        "        return reply"
      ],
      "execution_count": 0,
      "outputs": [
        {
          "output_type": "stream",
          "text": [
            "Overwriting /root/ParlAI/parlai/agents/baseline/majorityclass.py\n"
          ],
          "name": "stdout"
        }
      ]
    },
    {
      "cell_type": "code",
      "metadata": {
        "colab_type": "code",
        "id": "U34z6bx0lJV9",
        "outputId": "90ed1105-c554-42cf-f56d-1c3322e944cc",
        "colab": {
          "base_uri": "https://localhost:8080/",
          "height": 35
        }
      },
      "source": [
        "!python ~/ParlAI/examples/eval_model.py -t babi:task10k:1 -m baseline/majorityclass | grep accuracy -A 1"
      ],
      "execution_count": 0,
      "outputs": [
        {
          "output_type": "stream",
          "text": [
            "{'exs': 1000, 'accuracy': 0.169, 'f1': 0.169, 'bleu': 1.69e-10}\n"
          ],
          "name": "stdout"
        }
      ]
    },
    {
      "cell_type": "code",
      "metadata": {
        "colab_type": "code",
        "id": "X8LHkfUS3AL0",
        "colab": {}
      },
      "source": [
        "!python ~/ParlAI/examples/display_model.py -t babi:task10k:1 -m baseline/majorityclass -n 10"
      ],
      "execution_count": 0,
      "outputs": []
    },
    {
      "cell_type": "markdown",
      "metadata": {
        "colab_type": "text",
        "id": "BOW4ZTSekWt9"
      },
      "source": [
        "---\n",
        "- **3.d.**  In which cases would the majority class baseline be better than the random baseline?\n",
        "\n",
        "*The majority class baseline would be better in case where we many possible answers of a given question*\n",
        "\n",
        "---"
      ]
    },
    {
      "cell_type": "markdown",
      "metadata": {
        "colab_type": "text",
        "id": "layL9aTK_D1a"
      },
      "source": [
        "Another slightly more advanced baseline is implemented in ParlAI: the information retrieval baseline (`ir_baseline`)\n",
        "\n",
        "---\n",
        "- **3.e.** Look at the [implementation](https://github.com/facebookresearch/ParlAI/blob/53ea58acf389bffc79c85c43bcdd848eecdcecb4/parlai/agents/ir_baseline/ir_baseline.py#L211) of the IR baseline and explain in a few lines how it works (*hint: look at the following methods `act()` `rank_candidates()`  `score_match()`*)  \n",
        "\n",
        "*We can explain this implementation by focusing on three of its methods. From the rank_candidates we get a list of candidate answer sorted with respect to their score. The score is calculated by using the sum of the words representation of the candidate text and we divide it by the square root of the len of the candidate text.The act() method compute the candidate texts and their words representation and then reply to the question by choosing the top 1 of the ranked candidate i.e the candidate with the highest score.  *\n",
        "\n",
        "\n",
        "---"
      ]
    },
    {
      "cell_type": "markdown",
      "metadata": {
        "colab_type": "text",
        "id": "oKo6zJHwksKA"
      },
      "source": [
        "- **3.f.** Use the IR baseline and compare its with one of your baselines (random and/or majority) on bAbI tasks 1, 2 and 3.  \n",
        "    (*hint: you can use `!python ... -t babi:task1-k:{i+1}` syntax to substitute the task number in a bash command from jupyter*)\n"
      ]
    },
    {
      "cell_type": "code",
      "metadata": {
        "colab_type": "code",
        "id": "EzBAEWP7k10U",
        "outputId": "84f2bf40-7835-4d4e-a778-7bfe7c87d647",
        "colab": {
          "base_uri": "https://localhost:8080/",
          "height": 348
        }
      },
      "source": [
        "# FILL THIS CELL\n",
        "for i in range(3):\n",
        "    print(f'~ Task {i+1} ~')\n",
        "    # FILL CODE HERE\n",
        "    print(f'-Task {i+1}-')\n",
        "    print('Majority class baseline')\n",
        "    !python ~/ParlAI/examples/eval_model.py -t babi:task10k:{i+1} -m baseline/majorityclass | grep accuracy\n",
        "\n",
        "    print('IR baseline')\n",
        "    !python ~/ParlAI/examples/eval_model.py -t babi:task10k:{i+1} -m ir_baseline | grep accuracy"
      ],
      "execution_count": 0,
      "outputs": [
        {
          "output_type": "stream",
          "text": [
            "~ Task 1 ~\n",
            "-Task 1-\n",
            "Majority class baseline\n",
            "{'exs': 1000, 'accuracy': 0.169, 'f1': 0.169, 'bleu': 1.69e-10}\n",
            "IR baseline\n",
            "{'exs': 1000, 'accuracy': 0.465, 'f1': 0.465, 'hits@1': 0.465, 'hits@5': 0.961, 'hits@10': 1.0, 'hits@100': 1.0, 'bleu': 4.65e-10}\n",
            "~ Task 2 ~\n",
            "-Task 2-\n",
            "Majority class baseline\n",
            "{'exs': 1000, 'accuracy': 0.17, 'f1': 0.17, 'bleu': 1.7e-10}\n",
            "IR baseline\n",
            "{'exs': 1000, 'accuracy': 0.284, 'f1': 0.284, 'hits@1': 0.284, 'hits@5': 0.9, 'hits@10': 1.0, 'hits@100': 1.0, 'bleu': 2.84e-10}\n",
            "~ Task 3 ~\n",
            "-Task 3-\n",
            "Majority class baseline\n",
            "{'exs': 1000, 'accuracy': 0.203, 'f1': 0.203, 'bleu': 2.03e-10}\n",
            "IR baseline\n",
            "{'exs': 1000, 'accuracy': 0.132, 'f1': 0.132, 'hits@1': 0.132, 'hits@5': 0.836, 'hits@10': 1.0, 'hits@100': 1.0, 'bleu': 1.32e-10}\n"
          ],
          "name": "stdout"
        }
      ]
    },
    {
      "cell_type": "code",
      "metadata": {
        "id": "srudraH2YsFA",
        "colab_type": "code",
        "outputId": "64a85124-02b9-4634-efb7-cf45a1391853",
        "colab": {
          "base_uri": "https://localhost:8080/",
          "height": 296
        }
      },
      "source": [
        "# SOLUTION For random baseline\n",
        "for i in range(3):\n",
        "    print(f'~ Task {i+1} ~')\n",
        "    print('Random baseline:')\n",
        "    !python ~/ParlAI/examples/eval_model.py -t babi:task10k:{i+1} -m baseline/random | grep accuracy\n",
        "    print('IR baseline:')\n",
        "    !python ~/ParlAI/examples/eval_model.py -t babi:task10k:{i+1} -m ir_baseline | grep accuracy"
      ],
      "execution_count": 0,
      "outputs": [
        {
          "output_type": "stream",
          "text": [
            "~ Task 1 ~\n",
            "Random baseline:\n",
            "{'exs': 1000, 'accuracy': 0.16, 'f1': 0.16, 'bleu': 1.6e-10}\n",
            "IR baseline:\n",
            "{'exs': 1000, 'accuracy': 0.465, 'f1': 0.465, 'hits@1': 0.465, 'hits@5': 0.961, 'hits@10': 1.0, 'hits@100': 1.0, 'bleu': 4.65e-10}\n",
            "~ Task 2 ~\n",
            "Random baseline:\n",
            "{'exs': 1000, 'accuracy': 0.159, 'f1': 0.159, 'bleu': 1.59e-10}\n",
            "IR baseline:\n",
            "{'exs': 1000, 'accuracy': 0.284, 'f1': 0.284, 'hits@1': 0.284, 'hits@5': 0.9, 'hits@10': 1.0, 'hits@100': 1.0, 'bleu': 2.84e-10}\n",
            "~ Task 3 ~\n",
            "Random baseline:\n",
            "{'exs': 1000, 'accuracy': 0.15, 'f1': 0.15, 'bleu': 1.5e-10}\n",
            "IR baseline:\n",
            "{'exs': 1000, 'accuracy': 0.132, 'f1': 0.132, 'hits@1': 0.132, 'hits@5': 0.836, 'hits@10': 1.0, 'hits@100': 1.0, 'bleu': 1.32e-10}\n"
          ],
          "name": "stdout"
        }
      ]
    },
    {
      "cell_type": "markdown",
      "metadata": {
        "colab_type": "text",
        "id": "xZGFSbEwJdvx"
      },
      "source": [
        "## 4. More elaborate models\n",
        "\n"
      ]
    },
    {
      "cell_type": "markdown",
      "metadata": {
        "colab_type": "text",
        "id": "wj7onBcoyoZz"
      },
      "source": [
        "We can now continue to more elaborate models and evaluate their performance in perspective to the baselines.\n",
        "We will use the `~/ParlAI/examples/train_model.py` script. Let's first get a glance at its arguments:"
      ]
    },
    {
      "cell_type": "code",
      "metadata": {
        "colab_type": "code",
        "id": "gZa5Xl5Bxxxe",
        "outputId": "22035f9d-67a5-4b69-fc7d-697aa70e9895",
        "colab": {
          "base_uri": "https://localhost:8080/",
          "height": 1000
        }
      },
      "source": [
        "!python ~/ParlAI/examples/train_model.py --help"
      ],
      "execution_count": 0,
      "outputs": [
        {
          "output_type": "stream",
          "text": [
            "usage: train_model.py [-h] [-v] [-t TASK]\n",
            "                      [-dt {train,train:stream,train:ordered,train:ordered:stream,train:stream:ordered,train:evalmode,train:evalmode:stream,train:evalmode:ordered,train:evalmode:ordered:stream,train:evalmode:stream:ordered,valid,valid:stream,test,test:stream}]\n",
            "                      [-nt NUMTHREADS] [-bs BATCHSIZE] [-dp DATAPATH] [-m MODEL] [-mf MODEL_FILE] [-im INIT_MODEL] [-et EVALTASK]\n",
            "                      [-eps NUM_EPOCHS] [-ttim MAX_TRAIN_TIME] [-vtim VALIDATION_EVERY_N_SECS] [-stim SAVE_EVERY_N_SECS]\n",
            "                      [-sval SAVE_AFTER_VALID] [-veps VALIDATION_EVERY_N_EPOCHS] [-vp VALIDATION_PATIENCE]\n",
            "                      [-vmt VALIDATION_METRIC] [-vmm {max,min}] [-pyt PYTORCH_TEACHER_TASK] [-pytd PYTORCH_TEACHER_DATASET]\n",
            "\n",
            "Train a model\n",
            "\n",
            "optional arguments:\n",
            "  -h, --help\n",
            "        show this help message and exit\n",
            "\n",
            "Main ParlAI Arguments:\n",
            "  -v, --show-advanced-args\n",
            "        Show hidden command line options (advanced users only) (default: False)\n",
            "  -t, --task TASK\n",
            "        ParlAI task(s), e.g. \"babi:Task1\" or \"babi,cbt\" (default: None)\n",
            "  -dt, --datatype {train,train:stream,train:ordered,train:ordered:stream,train:stream:ordered,train:evalmode,train:evalmode:stream,train:evalmode:ordered,train:evalmode:ordered:stream,train:evalmode:stream:ordered,valid,valid:stream,test,test:stream}\n",
            "        choose from: train, train:ordered, valid, test. to stream data add \":stream\" to any option (e.g., train:stream). by\n",
            "        default: train is random with replacement, valid is ordered, test is ordered. (default: train)\n",
            "  -nt, --numthreads NUMTHREADS\n",
            "        number of threads. Used for hogwild if batchsize is 1, else for number of threads in threadpool loading, (default: 1)\n",
            "  -bs, --batchsize BATCHSIZE\n",
            "        batch size for minibatch training schemes (default: 1)\n",
            "  -dp, --datapath DATAPATH\n",
            "        path to datasets, defaults to {parlai_dir}/data (default: /root/ParlAI/data)\n",
            "\n",
            "ParlAI Model Arguments:\n",
            "  -m, --model MODEL\n",
            "        the model class name. can match parlai/agents/<model> for agents in that directory, or can provide a fully specified\n",
            "        module for `from X import Y` via `-m X:Y` (e.g. `-m parlai.agents.seq2seq.seq2seq:Seq2SeqAgent`) (default: None)\n",
            "  -mf, --model-file MODEL_FILE\n",
            "        model file name for loading and saving models (default: None)\n",
            "  -im, --init-model INIT_MODEL\n",
            "        load model weights and dict from this file (default: None)\n",
            "\n",
            "Training Loop Arguments:\n",
            "  -et, --evaltask EVALTASK\n",
            "        task to use for valid/test (defaults to the one used for training if not set) (default: None)\n",
            "  -eps, --num-epochs NUM_EPOCHS\n",
            "  -ttim, --max-train-time MAX_TRAIN_TIME\n",
            "  -vtim, --validation-every-n-secs VALIDATION_EVERY_N_SECS\n",
            "        Validate every n seconds. Saves model to model_file (if set) whenever best val metric is found (default: -1)\n",
            "  -stim, --save-every-n-secs SAVE_EVERY_N_SECS\n",
            "        Saves the model to model_file.checkpoint after every n seconds (default -1, never). (default: -1)\n",
            "  -sval, --save-after-valid SAVE_AFTER_VALID\n",
            "        Saves the model to model_file.checkpoint after every validation (default False).\n",
            "  -veps, --validation-every-n-epochs VALIDATION_EVERY_N_EPOCHS\n",
            "        Validate every n epochs. Saves model to model_file (if set) whenever best val metric is found (default: -1)\n",
            "  -vp, --validation-patience VALIDATION_PATIENCE\n",
            "        number of iterations of validation where result does not improve before we stop training (default: 10)\n",
            "  -vmt, --validation-metric VALIDATION_METRIC\n",
            "        key into report table for selecting best validation (default: accuracy)\n",
            "  -vmm, --validation-metric-mode {max,min}\n",
            "        how to optimize validation metric (max or min) (default: None)\n",
            "\n",
            "PytorchData Arguments:\n",
            "  -pyt, --pytorch-teacher-task PYTORCH_TEACHER_TASK\n",
            "        Use the PytorchDataTeacher for multiprocessed data loading with a standard ParlAI task, e.g. \"babi:Task1k\" (default: None)\n",
            "  -pytd, --pytorch-teacher-dataset PYTORCH_TEACHER_DATASET\n",
            "        Use the PytorchDataTeacher for multiprocessed data loading with a pytorch Dataset, e.g. \"vqa_1\" or \"flickr30k\" (default:\n",
            "        None)\n"
          ],
          "name": "stdout"
        }
      ]
    },
    {
      "cell_type": "markdown",
      "metadata": {
        "colab_type": "text",
        "id": "s2apZUNj6JrS"
      },
      "source": [
        "We can train two types of models:\n",
        "- **Generative models**: The model generates an answer from its vocabulary.\n",
        "- **Ranking models**: The model is given a list of possible answers and has to choose the correct answer. This is much easier for the model since the list of possible answers is often way smaller than the size of the vocabulary\n"
      ]
    },
    {
      "cell_type": "markdown",
      "metadata": {
        "colab_type": "text",
        "id": "HdBwoP2K36DH"
      },
      "source": [
        "### Generative model: seq2seq with attention\n",
        "\n",
        "The generative model we are going to train is a sequence to sequence model with attention based on [Sustskever et al. 2014](https://arxiv.org/abs/1409.3215) and [Bahdanau et al. 2014](https://arxiv.org/abs/1409.0473).\n",
        "      \n",
        "- **4.a.** Briefly explain how attention works in sequence to sequence neural networks.\n",
        "- **4.b.** Do you think attention is useful for the babi tasks? How would you verify it experimentally?\n",
        "\n",
        "*ANSWERS*\n",
        "- **4.a.**  - Attention involves answering \"what part of the input should we focus on ?\"\n",
        "For every words we can get its attention vector generated which captures the contextual relationship between words and sentences.\n",
        "In one headed attention we have 3 abstract vectors (V,K and Q) that extract different components of an input word for every single learn. We use those 3 vectors to compute the attention vector using the formula Z = softmax(Q.K^t / sqrt(len(Q))).V.\n",
        "- **4.b.** I think attention would be useful useful for some  bAbi tasks.\n",
        "We could verify it by checking its performence on each task and try to compar them with the LSTM and the Memory Neural Networks.\n",
        "\n",
        "\n",
        "---\n",
        "- **4.c.** Train a seq2seq on bAbI task 1 (10k) and compare its results to the baselines.\n",
        "   (*hint: for faster training use the following arguments `--batchsize 32 --numthreads 1 --num-epochs 5 --hiddensize 64 --embeddingsize 64 --numlayers 1 --decoder shared`)\n"
      ]
    },
    {
      "cell_type": "code",
      "metadata": {
        "colab_type": "code",
        "id": "VIpwQj4NpY5s",
        "outputId": "e56bbef8-b73c-4124-c783-8e356d2c29aa",
        "colab": {
          "base_uri": "https://localhost:8080/",
          "height": 1000
        }
      },
      "source": [
        "# Solution\n",
        "!python ~/ParlAI/examples/train_model.py --task babi:task10k:1 --model seq2seq  --model-file /tmp/babi_s2s --batchsize 32 --numthreads 1 --num-epochs 5 --hiddensize 64 --embeddingsize 64 --numlayers 1 --decoder shared"
      ],
      "execution_count": 0,
      "outputs": [
        {
          "output_type": "stream",
          "text": [
            "[ Main ParlAI Arguments: ] \n",
            "[  batchsize: 32 ]\n",
            "[  datapath: /root/ParlAI/data ]\n",
            "[  datatype: train ]\n",
            "[  download_path: /root/ParlAI/downloads ]\n",
            "[  hide_labels: False ]\n",
            "[  image_mode: raw ]\n",
            "[  multitask_weights: [1] ]\n",
            "[  numthreads: 1 ]\n",
            "[  show_advanced_args: False ]\n",
            "[  task: babi:task10k:1 ]\n",
            "[ ParlAI Model Arguments: ] \n",
            "[  dict_class: parlai.core.dict:DictionaryAgent ]\n",
            "[  init_model: None ]\n",
            "[  model: seq2seq ]\n",
            "[  model_file: /tmp/babi_s2s ]\n",
            "[ Training Loop Arguments: ] \n",
            "[  dict_build_first: True ]\n",
            "[  display_examples: False ]\n",
            "[  eval_batchsize: None ]\n",
            "[  evaltask: None ]\n",
            "[  load_from_checkpoint: False ]\n",
            "[  max_train_time: -1 ]\n",
            "[  num_epochs: 5.0 ]\n",
            "[  save_after_valid: False ]\n",
            "[  save_every_n_secs: -1 ]\n",
            "[  validation_cutoff: 1.0 ]\n",
            "[  validation_every_n_epochs: -1 ]\n",
            "[  validation_every_n_secs: -1 ]\n",
            "[  validation_max_exs: -1 ]\n",
            "[  validation_metric: accuracy ]\n",
            "[  validation_metric_mode: None ]\n",
            "[  validation_patience: 10 ]\n",
            "[  validation_share_agent: False ]\n",
            "[ Tensorboard Arguments: ] \n",
            "[  tensorboard_comment:  ]\n",
            "[  tensorboard_log: False ]\n",
            "[  tensorboard_metrics: None ]\n",
            "[  tensorboard_tag: None ]\n",
            "[ PytorchData Arguments: ] \n",
            "[  batch_length_range: 5 ]\n",
            "[  batch_sort_cache_type: pop ]\n",
            "[  batch_sort_field: text ]\n",
            "[  numworkers: 4 ]\n",
            "[  pytorch_context_length: -1 ]\n",
            "[  pytorch_datapath: None ]\n",
            "[  pytorch_include_labels: True ]\n",
            "[  pytorch_preprocess: False ]\n",
            "[  pytorch_teacher_batch_sort: False ]\n",
            "[  pytorch_teacher_dataset: None ]\n",
            "[  pytorch_teacher_task: None ]\n",
            "[  shuffle: False ]\n",
            "[ Dictionary Loop Arguments: ] \n",
            "[  dict_include_test: False ]\n",
            "[  dict_include_valid: False ]\n",
            "[  dict_maxexs: -1 ]\n",
            "[  log_every_n_secs: 2 ]\n",
            "[ ParlAI Image Preprocessing Arguments: ] \n",
            "[  image_cropsize: 224 ]\n",
            "[  image_size: 256 ]\n",
            "[ Seq2Seq Arguments: ] \n",
            "[  attention: none ]\n",
            "[  attention_length: 48 ]\n",
            "[  attention_time: post ]\n",
            "[  bidirectional: False ]\n",
            "[  decoder: shared ]\n",
            "[  dropout: 0.1 ]\n",
            "[  embeddingsize: 64 ]\n",
            "[  hiddensize: 64 ]\n",
            "[  input_dropout: 0.0 ]\n",
            "[  lookuptable: unique ]\n",
            "[  numlayers: 1 ]\n",
            "[  numsoftmax: 1 ]\n",
            "[  rnn_class: lstm ]\n",
            "[ Torch Generator Agent: ] \n",
            "[  beam_block_ngram: 0 ]\n",
            "[  beam_dot_log: False ]\n",
            "[  beam_min_length: 1 ]\n",
            "[  beam_min_n_best: 3 ]\n",
            "[  beam_size: 1 ]\n",
            "[  skip_generation: False ]\n",
            "[ TorchAgent Arguments: ] \n",
            "[  add_p1_after_newln: False ]\n",
            "[  betas: (0.9, 0.999) ]\n",
            "[  delimiter: \n",
            " ]\n",
            "[  embedding_projection: random ]\n",
            "[  embedding_type: random ]\n",
            "[  gpu: -1 ]\n",
            "[  gradient_clip: 0.1 ]\n",
            "[  history_size: -1 ]\n",
            "[  label_truncate: None ]\n",
            "[  learningrate: 1 ]\n",
            "[  lr_scheduler: reduceonplateau ]\n",
            "[  lr_scheduler_decay: 0.5 ]\n",
            "[  lr_scheduler_patience: 3 ]\n",
            "[  momentum: 0 ]\n",
            "[  nesterov: True ]\n",
            "[  no_cuda: False ]\n",
            "[  nus: (0.7,) ]\n",
            "[  optimizer: sgd ]\n",
            "[  person_tokens: False ]\n",
            "[  rank_candidates: False ]\n",
            "[  split_lines: False ]\n",
            "[  text_truncate: None ]\n",
            "[  truncate: -1 ]\n",
            "[  update_freq: -1 ]\n",
            "[  use_reply: label ]\n",
            "[  warmup_rate: 0.0001 ]\n",
            "[  warmup_updates: -1 ]\n",
            "[ Dictionary Arguments: ] \n",
            "[  bpe_debug: False ]\n",
            "[  dict_endtoken: __end__ ]\n",
            "[  dict_file: None ]\n",
            "[  dict_initpath: None ]\n",
            "[  dict_language: english ]\n",
            "[  dict_lower: False ]\n",
            "[  dict_max_ngram_size: -1 ]\n",
            "[  dict_maxtokens: -1 ]\n",
            "[  dict_minfreq: 0 ]\n",
            "[  dict_nulltoken: __null__ ]\n",
            "[  dict_starttoken: __start__ ]\n",
            "[  dict_textfields: text,labels ]\n",
            "[  dict_tokenizer: re ]\n",
            "[  dict_unktoken: __unk__ ]\n",
            "[ building dictionary first... ]\n",
            "[creating task(s): babi:task10k:1]\n",
            "[ running dictionary over data.. ]\n",
            "Building dictionary:   0% 0.00/9.00k [00:00<?, ?ex/s][loading fbdialog data:/root/ParlAI/data/bAbI/tasks_1-20_v1-2/en-valid-10k-nosf/qa1_train.txt]\n",
            "Building dictionary:  85% 7.68k/9.00k [00:00<00:00, 25.5kex/s][loading fbdialog data:/root/ParlAI/data/bAbI/tasks_1-20_v1-2/en-valid-10k-nosf/qa1_train.txt]\n",
            "Building dictionary: 100% 9.00k/9.00k [00:00<00:00, 25.7kex/s]\n",
            "Dictionary: saving dictionary to /tmp/babi_s2s.dict\n",
            "[ dictionary built with 26 tokens in 0s ]\n",
            "[ no model with opt yet at: /tmp/babi_s2s(.opt) ]\n",
            "Dictionary: loading dictionary from /tmp/babi_s2s.dict\n",
            "[ num words =  26 ]\n",
            "/usr/local/lib/python3.6/dist-packages/torch/nn/_reduction.py:43: UserWarning: size_average and reduce args will be deprecated, please use reduction='sum' instead.\n",
            "  warnings.warn(warning.format(ret))\n",
            "[creating task(s): babi:task10k:1]\n",
            "[loading fbdialog data:/root/ParlAI/data/bAbI/tasks_1-20_v1-2/en-valid-10k-nosf/qa1_train.txt]\n",
            "[ training... ]\n",
            "[ time:2.0s total_exs:608 epochs:0.07 time_left:148.0s ] {'exs': 608, 'lr': 1, 'num_updates': 19, 'loss': 36.12, 'token_acc': 0.4441, 'nll_loss': 1.901, 'ppl': 6.694}\n",
            "[ time:4.0s total_exs:1216 epochs:0.14 time_left:146.0s ] {'exs': 608, 'lr': 1, 'num_updates': 38, 'loss': 20.08, 'token_acc': 0.5946, 'nll_loss': 1.057, 'ppl': 2.878}\n",
            "[ time:6.0s total_exs:1760 epochs:0.2 time_left:149.0s ] {'exs': 544, 'lr': 1, 'num_updates': 55, 'loss': 17.64, 'token_acc': 0.5873, 'nll_loss': 1.038, 'ppl': 2.823}\n",
            "[ time:8.0s total_exs:2400 epochs:0.27 time_left:147.0s ] {'exs': 640, 'lr': 1, 'num_updates': 75, 'loss': 19.91, 'token_acc': 0.5766, 'nll_loss': 0.9955, 'ppl': 2.706}\n",
            "[ time:10.0s total_exs:3008 epochs:0.33 time_left:144.0s ] {'exs': 608, 'lr': 1, 'num_updates': 94, 'loss': 18.89, 'token_acc': 0.5863, 'nll_loss': 0.9944, 'ppl': 2.703}\n",
            "[ time:12.0s total_exs:3616 epochs:0.4 time_left:141.0s ] {'exs': 608, 'lr': 1, 'num_updates': 113, 'loss': 18.52, 'token_acc': 0.5929, 'nll_loss': 0.9746, 'ppl': 2.65}\n",
            "[ time:14.0s total_exs:4224 epochs:0.47 time_left:139.0s ] {'exs': 608, 'lr': 1, 'num_updates': 132, 'loss': 18.48, 'token_acc': 0.5773, 'nll_loss': 0.9727, 'ppl': 2.645}\n",
            "[ time:16.0s total_exs:4800 epochs:0.53 time_left:138.0s ] {'exs': 576, 'lr': 1, 'num_updates': 150, 'loss': 17.24, 'token_acc': 0.5998, 'nll_loss': 0.958, 'ppl': 2.607}\n",
            "[ time:18.0s total_exs:5440 epochs:0.6 time_left:136.0s ] {'exs': 640, 'lr': 1, 'num_updates': 170, 'loss': 19.14, 'token_acc': 0.5875, 'nll_loss': 0.9571, 'ppl': 2.604}\n",
            "[ time:20.0s total_exs:6080 epochs:0.68 time_left:133.0s ] {'exs': 640, 'lr': 1, 'num_updates': 190, 'loss': 19.2, 'token_acc': 0.5828, 'nll_loss': 0.9599, 'ppl': 2.611}\n",
            "[ time:22.0s total_exs:6688 epochs:0.74 time_left:131.0s ] {'exs': 608, 'lr': 1, 'num_updates': 209, 'loss': 17.92, 'token_acc': 0.5979, 'nll_loss': 0.9431, 'ppl': 2.568}\n",
            "[ time:24.0s total_exs:7296 epochs:0.81 time_left:129.0s ] {'exs': 608, 'lr': 1, 'num_updates': 228, 'loss': 18.16, 'token_acc': 0.5872, 'nll_loss': 0.9557, 'ppl': 2.6}\n",
            "[ time:26.0s total_exs:7840 epochs:0.87 time_left:128.0s ] {'exs': 544, 'lr': 1, 'num_updates': 245, 'loss': 16.24, 'token_acc': 0.5864, 'nll_loss': 0.9552, 'ppl': 2.599}\n",
            "[ time:29.0s total_exs:8480 epochs:0.94 time_left:126.0s ] {'exs': 640, 'lr': 1, 'num_updates': 265, 'loss': 18.6, 'token_acc': 0.5992, 'nll_loss': 0.9302, 'ppl': 2.535}\n",
            "[ time:31.0s total_exs:9120 epochs:1.01 time_left:124.0s ] {'exs': 640, 'lr': 1, 'num_updates': 285, 'loss': 18.91, 'token_acc': 0.5945, 'nll_loss': 0.9456, 'ppl': 2.574}\n",
            "[ time:33.0s total_exs:9760 epochs:1.08 time_left:121.0s ] {'exs': 640, 'lr': 1, 'num_updates': 305, 'loss': 18.84, 'token_acc': 0.5852, 'nll_loss': 0.9422, 'ppl': 2.566}\n",
            "[ time:35.0s total_exs:10368 epochs:1.15 time_left:119.0s ] {'exs': 608, 'lr': 1, 'num_updates': 324, 'loss': 17.58, 'token_acc': 0.5962, 'nll_loss': 0.9253, 'ppl': 2.523}\n",
            "[ time:37.0s total_exs:10944 epochs:1.22 time_left:117.0s ] {'exs': 576, 'lr': 1, 'num_updates': 342, 'loss': 16.16, 'token_acc': 0.6172, 'nll_loss': 0.8975, 'ppl': 2.454}\n",
            "[ time:39.0s total_exs:11488 epochs:1.28 time_left:116.0s ] {'exs': 544, 'lr': 1, 'num_updates': 359, 'loss': 14.99, 'token_acc': 0.6259, 'nll_loss': 0.8817, 'ppl': 2.415}\n",
            "[ time:41.0s total_exs:12032 epochs:1.34 time_left:114.0s ] {'exs': 544, 'lr': 1, 'num_updates': 376, 'loss': 14.71, 'token_acc': 0.6452, 'nll_loss': 0.8654, 'ppl': 2.376}\n",
            "[ time:43.0s total_exs:12608 epochs:1.4 time_left:112.0s ] {'exs': 576, 'lr': 1, 'num_updates': 394, 'loss': 15.93, 'token_acc': 0.6415, 'nll_loss': 0.885, 'ppl': 2.423}\n",
            "[ time:45.0s total_exs:13120 epochs:1.46 time_left:111.0s ] {'exs': 512, 'lr': 1, 'num_updates': 410, 'loss': 13.44, 'token_acc': 0.6504, 'nll_loss': 0.8397, 'ppl': 2.316}\n",
            "[ time:47.0s total_exs:13728 epochs:1.53 time_left:109.0s ] {'exs': 608, 'lr': 1, 'num_updates': 429, 'loss': 16.28, 'token_acc': 0.6447, 'nll_loss': 0.8569, 'ppl': 2.356}\n",
            "[ time:49.0s total_exs:14240 epochs:1.58 time_left:108.0s ] {'exs': 512, 'lr': 1, 'num_updates': 445, 'loss': 13.68, 'token_acc': 0.6611, 'nll_loss': 0.8547, 'ppl': 2.351}\n",
            "[ time:51.0s total_exs:14848 epochs:1.65 time_left:106.0s ] {'exs': 608, 'lr': 1, 'num_updates': 464, 'loss': 15.86, 'token_acc': 0.6735, 'nll_loss': 0.8347, 'ppl': 2.304}\n",
            "[ time:53.0s total_exs:15424 epochs:1.71 time_left:104.0s ] {'exs': 576, 'lr': 1, 'num_updates': 482, 'loss': 14.47, 'token_acc': 0.6806, 'nll_loss': 0.8041, 'ppl': 2.235}\n",
            "[ time:56.0s total_exs:16000 epochs:1.78 time_left:102.0s ] {'exs': 576, 'lr': 1, 'num_updates': 500, 'loss': 14.8, 'token_acc': 0.691, 'nll_loss': 0.8222, 'ppl': 2.275}\n",
            "[ time:58.0s total_exs:16608 epochs:1.85 time_left:100.0s ] {'exs': 608, 'lr': 1, 'num_updates': 519, 'loss': 15.34, 'token_acc': 0.6924, 'nll_loss': 0.8075, 'ppl': 2.242}\n",
            "[ time:60.0s total_exs:17120 epochs:1.9 time_left:99.0s ] {'exs': 512, 'lr': 1, 'num_updates': 535, 'loss': 13.03, 'token_acc': 0.6719, 'nll_loss': 0.8144, 'ppl': 2.258}\n",
            "[ time:62.0s total_exs:17728 epochs:1.97 time_left:96.0s ] {'exs': 608, 'lr': 1, 'num_updates': 554, 'loss': 15.23, 'token_acc': 0.6924, 'nll_loss': 0.8015, 'ppl': 2.229}\n",
            "[ time:64.0s total_exs:18304 epochs:2.03 time_left:94.0s ] {'exs': 576, 'lr': 1, 'num_updates': 572, 'loss': 14.23, 'token_acc': 0.6875, 'nll_loss': 0.7903, 'ppl': 2.204}\n",
            "[ time:66.0s total_exs:18880 epochs:2.1 time_left:92.0s ] {'exs': 576, 'lr': 1, 'num_updates': 590, 'loss': 14.0, 'token_acc': 0.7005, 'nll_loss': 0.7779, 'ppl': 2.177}\n",
            "[ time:68.0s total_exs:19520 epochs:2.17 time_left:90.0s ] {'exs': 640, 'lr': 1, 'num_updates': 610, 'loss': 15.87, 'token_acc': 0.6883, 'nll_loss': 0.7935, 'ppl': 2.211}\n",
            "[ time:70.0s total_exs:20160 epochs:2.24 time_left:88.0s ] {'exs': 640, 'lr': 1, 'num_updates': 630, 'loss': 15.26, 'token_acc': 0.707, 'nll_loss': 0.7628, 'ppl': 2.144}\n",
            "[ time:72.0s total_exs:20800 epochs:2.31 time_left:85.0s ] {'exs': 640, 'lr': 1, 'num_updates': 650, 'loss': 15.09, 'token_acc': 0.7023, 'nll_loss': 0.7546, 'ppl': 2.127}\n",
            "[ time:74.0s total_exs:21408 epochs:2.38 time_left:83.0s ] {'exs': 608, 'lr': 1, 'num_updates': 669, 'loss': 14.69, 'token_acc': 0.7105, 'nll_loss': 0.7732, 'ppl': 2.167}\n",
            "[ time:76.0s total_exs:21984 epochs:2.44 time_left:81.0s ] {'exs': 576, 'lr': 1, 'num_updates': 687, 'loss': 13.9, 'token_acc': 0.7023, 'nll_loss': 0.772, 'ppl': 2.164}\n",
            "[ time:79.0s total_exs:22560 epochs:2.51 time_left:79.0s ] {'exs': 576, 'lr': 1, 'num_updates': 705, 'loss': 14.0, 'token_acc': 0.7092, 'nll_loss': 0.778, 'ppl': 2.177}\n",
            "[ time:81.0s total_exs:23200 epochs:2.58 time_left:77.0s ] {'exs': 640, 'lr': 1, 'num_updates': 725, 'loss': 14.87, 'token_acc': 0.7258, 'nll_loss': 0.7435, 'ppl': 2.103}\n",
            "[ time:83.0s total_exs:23840 epochs:2.65 time_left:74.0s ] {'exs': 640, 'lr': 1, 'num_updates': 745, 'loss': 14.55, 'token_acc': 0.7305, 'nll_loss': 0.7277, 'ppl': 2.07}\n",
            "[ time:85.0s total_exs:24480 epochs:2.72 time_left:72.0s ] {'exs': 640, 'lr': 1, 'num_updates': 765, 'loss': 15.16, 'token_acc': 0.7063, 'nll_loss': 0.758, 'ppl': 2.134}\n",
            "[ time:87.0s total_exs:25120 epochs:2.79 time_left:70.0s ] {'exs': 640, 'lr': 1, 'num_updates': 785, 'loss': 14.48, 'token_acc': 0.7266, 'nll_loss': 0.7238, 'ppl': 2.062}\n",
            "[ time:89.0s total_exs:25760 epochs:2.86 time_left:68.0s ] {'exs': 640, 'lr': 1, 'num_updates': 805, 'loss': 14.69, 'token_acc': 0.7266, 'nll_loss': 0.7343, 'ppl': 2.084}\n",
            "[ time:91.0s total_exs:26400 epochs:2.93 time_left:65.0s ] {'exs': 640, 'lr': 1, 'num_updates': 825, 'loss': 14.2, 'token_acc': 0.7328, 'nll_loss': 0.7099, 'ppl': 2.034}\n",
            "[ time:93.0s total_exs:27040 epochs:3.0 time_left:63.0s ] {'exs': 640, 'lr': 1, 'num_updates': 845, 'loss': 14.55, 'token_acc': 0.7352, 'nll_loss': 0.7276, 'ppl': 2.07}\n",
            "[ time:96.0s total_exs:27680 epochs:3.08 time_left:61.0s ] {'exs': 640, 'lr': 1, 'num_updates': 865, 'loss': 14.2, 'token_acc': 0.7367, 'nll_loss': 0.7101, 'ppl': 2.034}\n",
            "[ time:98.0s total_exs:28320 epochs:3.15 time_left:58.0s ] {'exs': 640, 'lr': 1, 'num_updates': 885, 'loss': 13.69, 'token_acc': 0.7555, 'nll_loss': 0.6846, 'ppl': 1.983}\n",
            "[ time:100.0s total_exs:28960 epochs:3.22 time_left:56.0s ] {'exs': 640, 'lr': 1, 'num_updates': 905, 'loss': 14.01, 'token_acc': 0.7359, 'nll_loss': 0.7003, 'ppl': 2.014}\n",
            "[ time:102.0s total_exs:29600 epochs:3.29 time_left:54.0s ] {'exs': 640, 'lr': 1, 'num_updates': 925, 'loss': 14.18, 'token_acc': 0.7359, 'nll_loss': 0.7088, 'ppl': 2.031}\n",
            "[ time:104.0s total_exs:30240 epochs:3.36 time_left:52.0s ] {'exs': 640, 'lr': 1, 'num_updates': 945, 'loss': 13.97, 'token_acc': 0.7367, 'nll_loss': 0.6983, 'ppl': 2.01}\n",
            "[ time:106.0s total_exs:30880 epochs:3.43 time_left:49.0s ] {'exs': 640, 'lr': 1, 'num_updates': 965, 'loss': 14.91, 'token_acc': 0.7195, 'nll_loss': 0.7454, 'ppl': 2.107}\n",
            "[ time:108.0s total_exs:31520 epochs:3.5 time_left:47.0s ] {'exs': 640, 'lr': 1, 'num_updates': 985, 'loss': 14.15, 'token_acc': 0.7422, 'nll_loss': 0.7074, 'ppl': 2.029}\n",
            "[ time:110.0s total_exs:32160 epochs:3.57 time_left:45.0s ] {'exs': 640, 'lr': 1, 'num_updates': 1005, 'loss': 14.25, 'token_acc': 0.7352, 'nll_loss': 0.7124, 'ppl': 2.039}\n",
            "[ time:112.0s total_exs:32800 epochs:3.64 time_left:43.0s ] {'exs': 640, 'lr': 1, 'num_updates': 1025, 'loss': 13.71, 'token_acc': 0.7438, 'nll_loss': 0.6855, 'ppl': 1.985}\n",
            "[ time:115.0s total_exs:33440 epochs:3.72 time_left:40.0s ] {'exs': 640, 'lr': 1, 'num_updates': 1045, 'loss': 13.6, 'token_acc': 0.7438, 'nll_loss': 0.6798, 'ppl': 1.973}\n",
            "[ time:117.0s total_exs:34080 epochs:3.79 time_left:38.0s ] {'exs': 640, 'lr': 1, 'num_updates': 1065, 'loss': 13.75, 'token_acc': 0.7266, 'nll_loss': 0.6877, 'ppl': 1.989}\n",
            "[ time:119.0s total_exs:34720 epochs:3.86 time_left:36.0s ] {'exs': 640, 'lr': 1, 'num_updates': 1085, 'loss': 14.16, 'token_acc': 0.7258, 'nll_loss': 0.7082, 'ppl': 2.03}\n",
            "[ time:121.0s total_exs:35360 epochs:3.93 time_left:34.0s ] {'exs': 640, 'lr': 1, 'num_updates': 1105, 'loss': 13.23, 'token_acc': 0.7445, 'nll_loss': 0.6615, 'ppl': 1.938}\n",
            "[ time:123.0s total_exs:36000 epochs:4.0 time_left:31.0s ] {'exs': 640, 'lr': 1, 'num_updates': 1125, 'loss': 13.43, 'token_acc': 0.7469, 'nll_loss': 0.6717, 'ppl': 1.957}\n",
            "[ time:125.0s total_exs:36640 epochs:4.07 time_left:29.0s ] {'exs': 640, 'lr': 1, 'num_updates': 1145, 'loss': 13.82, 'token_acc': 0.7367, 'nll_loss': 0.6911, 'ppl': 1.996}\n",
            "[ time:128.0s total_exs:37280 epochs:4.14 time_left:27.0s ] {'exs': 640, 'lr': 1, 'num_updates': 1165, 'loss': 13.06, 'token_acc': 0.7656, 'nll_loss': 0.6528, 'ppl': 1.921}\n",
            "[ time:130.0s total_exs:37920 epochs:4.21 time_left:25.0s ] {'exs': 640, 'lr': 1, 'num_updates': 1185, 'loss': 13.47, 'token_acc': 0.7539, 'nll_loss': 0.6734, 'ppl': 1.961}\n",
            "[ time:132.0s total_exs:38560 epochs:4.28 time_left:23.0s ] {'exs': 640, 'lr': 1, 'num_updates': 1205, 'loss': 13.73, 'token_acc': 0.75, 'nll_loss': 0.6866, 'ppl': 1.987}\n",
            "[ time:134.0s total_exs:39200 epochs:4.36 time_left:20.0s ] {'exs': 640, 'lr': 1, 'num_updates': 1225, 'loss': 13.31, 'token_acc': 0.7562, 'nll_loss': 0.6656, 'ppl': 1.946}\n",
            "[ time:136.0s total_exs:39840 epochs:4.43 time_left:18.0s ] {'exs': 640, 'lr': 1, 'num_updates': 1245, 'loss': 13.18, 'token_acc': 0.7516, 'nll_loss': 0.659, 'ppl': 1.933}\n",
            "[ time:138.0s total_exs:40480 epochs:4.5 time_left:16.0s ] {'exs': 640, 'lr': 1, 'num_updates': 1265, 'loss': 12.82, 'token_acc': 0.7547, 'nll_loss': 0.6412, 'ppl': 1.899}\n",
            "[ time:140.0s total_exs:41120 epochs:4.57 time_left:14.0s ] {'exs': 640, 'lr': 1, 'num_updates': 1285, 'loss': 13.16, 'token_acc': 0.7445, 'nll_loss': 0.6578, 'ppl': 1.931}\n",
            "[ time:143.0s total_exs:41760 epochs:4.64 time_left:12.0s ] {'exs': 640, 'lr': 1, 'num_updates': 1305, 'loss': 12.73, 'token_acc': 0.7641, 'nll_loss': 0.6363, 'ppl': 1.89}\n",
            "[ time:145.0s total_exs:42400 epochs:4.71 time_left:9.0s ] {'exs': 640, 'lr': 1, 'num_updates': 1325, 'loss': 12.92, 'token_acc': 0.757, 'nll_loss': 0.6462, 'ppl': 1.908}\n",
            "[ time:147.0s total_exs:43040 epochs:4.78 time_left:7.0s ] {'exs': 640, 'lr': 1, 'num_updates': 1345, 'loss': 13.06, 'token_acc': 0.7578, 'nll_loss': 0.6528, 'ppl': 1.921}\n",
            "[ time:149.0s total_exs:43680 epochs:4.85 time_left:5.0s ] {'exs': 640, 'lr': 1, 'num_updates': 1365, 'loss': 13.31, 'token_acc': 0.7422, 'nll_loss': 0.6656, 'ppl': 1.946}\n",
            "[ time:151.0s total_exs:44320 epochs:4.92 time_left:3.0s ] {'exs': 640, 'lr': 1, 'num_updates': 1385, 'loss': 13.02, 'token_acc': 0.7414, 'nll_loss': 0.6509, 'ppl': 1.917}\n",
            "[ time:153.0s total_exs:44960 epochs:5.0 time_left:1.0s ] {'exs': 640, 'lr': 1, 'num_updates': 1405, 'loss': 12.51, 'token_acc': 0.7641, 'nll_loss': 0.6254, 'ppl': 1.869}\n",
            "[ time:153.0s total_exs:45024 epochs:5.0 time_left:0s ] {'exs': 64, 'lr': 1, 'num_updates': 1407, 'loss': 1.15, 'token_acc': 0.7578, 'nll_loss': 0.5751, 'ppl': 1.777}\n",
            "[ num_epochs completed:5.0 time elapsed:153.77918982505798s ]\n",
            "[creating task(s): babi:task10k:1]\n",
            "[loading fbdialog data:/root/ParlAI/data/bAbI/tasks_1-20_v1-2/en-valid-10k-nosf/qa1_valid.txt]\n",
            "[ running eval: valid ]\n",
            "valid:{'exs': 1000, 'accuracy': 0.533, 'f1': 0.533, 'bleu': 5.33e-10, 'lr': 1, 'num_updates': 1407, 'loss': 20.68, 'token_acc': 0.7665, 'nll_loss': 0.5821, 'ppl': 1.79}\n",
            "[creating task(s): babi:task10k:1]\n",
            "[loading fbdialog data:/root/ParlAI/data/bAbI/tasks_1-20_v1-2/en-valid-10k-nosf/qa1_test.txt]\n",
            "[ running eval: test ]\n",
            "test:{'exs': 1000, 'accuracy': 0.503, 'f1': 0.503, 'bleu': 5.03e-10, 'lr': 1, 'num_updates': 1407, 'loss': 21.93, 'token_acc': 0.7515, 'nll_loss': 0.6304, 'ppl': 1.878}\n"
          ],
          "name": "stdout"
        }
      ]
    },
    {
      "cell_type": "code",
      "metadata": {
        "colab_type": "code",
        "id": "OvxjgtEHTXFb",
        "outputId": "88606f26-2817-402b-c2a0-b6937b89ba54",
        "colab": {
          "base_uri": "https://localhost:8080/",
          "height": 1000
        }
      },
      "source": [
        "!python ~/ParlAI/examples/display_model.py --task babi:task10k:1 --model seq2seq --model-file /tmp/babi_s2s"
      ],
      "execution_count": 0,
      "outputs": [
        {
          "output_type": "stream",
          "text": [
            "[ optional arguments: ] \n",
            "[  display_ignore_fields:  ]\n",
            "[  num_examples: 10 ]\n",
            "[ Main ParlAI Arguments: ] \n",
            "[  batchsize: 1 ]\n",
            "[  datapath: /root/ParlAI/data ]\n",
            "[  datatype: valid ]\n",
            "[  download_path: /root/ParlAI/downloads ]\n",
            "[  hide_labels: False ]\n",
            "[  image_mode: raw ]\n",
            "[  multitask_weights: [1] ]\n",
            "[  numthreads: 1 ]\n",
            "[  show_advanced_args: False ]\n",
            "[  task: babi:task10k:1 ]\n",
            "[ ParlAI Model Arguments: ] \n",
            "[  dict_class: parlai.core.dict:DictionaryAgent ]\n",
            "[  init_model: None ]\n",
            "[  model: seq2seq ]\n",
            "[  model_file: /tmp/babi_s2s ]\n",
            "[ ParlAI Image Preprocessing Arguments: ] \n",
            "[  image_cropsize: 224 ]\n",
            "[  image_size: 256 ]\n",
            "[ Seq2Seq Arguments: ] \n",
            "[  attention: none ]\n",
            "[  attention_length: 48 ]\n",
            "[  attention_time: post ]\n",
            "[  bidirectional: False ]\n",
            "[  decoder: same ]\n",
            "[  dropout: 0.1 ]\n",
            "[  embeddingsize: 128 ]\n",
            "[  hiddensize: 128 ]\n",
            "[  input_dropout: 0.0 ]\n",
            "[  lookuptable: unique ]\n",
            "[  numlayers: 2 ]\n",
            "[  numsoftmax: 1 ]\n",
            "[  rnn_class: lstm ]\n",
            "[ Torch Generator Agent: ] \n",
            "[  beam_block_ngram: 0 ]\n",
            "[  beam_dot_log: False ]\n",
            "[  beam_min_length: 1 ]\n",
            "[  beam_min_n_best: 3 ]\n",
            "[  beam_size: 1 ]\n",
            "[  skip_generation: False ]\n",
            "[ TorchAgent Arguments: ] \n",
            "[  add_p1_after_newln: False ]\n",
            "[  betas: (0.9, 0.999) ]\n",
            "[  delimiter: \n",
            " ]\n",
            "[  embedding_projection: random ]\n",
            "[  embedding_type: random ]\n",
            "[  gpu: -1 ]\n",
            "[  gradient_clip: 0.1 ]\n",
            "[  history_size: -1 ]\n",
            "[  label_truncate: None ]\n",
            "[  learningrate: 1 ]\n",
            "[  lr_scheduler: reduceonplateau ]\n",
            "[  lr_scheduler_decay: 0.5 ]\n",
            "[  lr_scheduler_patience: 3 ]\n",
            "[  momentum: 0 ]\n",
            "[  nesterov: True ]\n",
            "[  no_cuda: False ]\n",
            "[  nus: (0.7,) ]\n",
            "[  optimizer: sgd ]\n",
            "[  person_tokens: False ]\n",
            "[  rank_candidates: False ]\n",
            "[  split_lines: False ]\n",
            "[  text_truncate: None ]\n",
            "[  truncate: -1 ]\n",
            "[  update_freq: -1 ]\n",
            "[  use_reply: label ]\n",
            "[  warmup_rate: 0.0001 ]\n",
            "[  warmup_updates: -1 ]\n",
            "[ Dictionary Arguments: ] \n",
            "[  bpe_debug: False ]\n",
            "[  dict_endtoken: __end__ ]\n",
            "[  dict_file: None ]\n",
            "[  dict_initpath: None ]\n",
            "[  dict_language: english ]\n",
            "[  dict_lower: False ]\n",
            "[  dict_max_ngram_size: -1 ]\n",
            "[  dict_maxtokens: -1 ]\n",
            "[  dict_minfreq: 0 ]\n",
            "[  dict_nulltoken: __null__ ]\n",
            "[  dict_starttoken: __start__ ]\n",
            "[  dict_textfields: text,labels ]\n",
            "[  dict_tokenizer: re ]\n",
            "[  dict_unktoken: __unk__ ]\n",
            "[ no model with opt yet at: /tmp/babi_s2s(.opt) ]\n",
            "/usr/local/lib/python3.6/dist-packages/torch/nn/_reduction.py:43: UserWarning: size_average and reduce args will be deprecated, please use reduction='sum' instead.\n",
            "  warnings.warn(warning.format(ret))\n",
            "[creating task(s): babi:task10k:1]\n",
            "[loading fbdialog data:/root/ParlAI/data/bAbI/tasks_1-20_v1-2/en-valid-10k-nosf/qa1_valid.txt]\n",
            "[eval_labels_choice]: bathroom\n",
            "[babi:task10k:1]: Sandra travelled to the office.\n",
            "Sandra went to the bathroom.\n",
            "Where is Sandra?\n",
            "[eval_labels: bathroom]\n",
            "[label_candidates: hallway|bedroom|garden|bathroom|kitchen|...and 1 more]\n",
            "~~\n",
            "[eval_labels_choice]: bathroom\n",
            "[babi:task10k:1]: Sandra travelled to the office.\n",
            "Sandra went to the bathroom.\n",
            "Where is Sandra?\n",
            "bathroom\n",
            "Mary went to the bedroom.\n",
            "Daniel moved to the hallway.\n",
            "Where is Sandra?\n",
            "[eval_labels: bathroom]\n",
            "[label_candidates: hallway|bedroom|garden|bathroom|kitchen|...and 1 more]\n",
            "~~\n",
            "[eval_labels_choice]: bathroom\n",
            "[babi:task10k:1]: Sandra travelled to the office.\n",
            "Sandra went to the bathroom.\n",
            "Where is Sandra?\n",
            "bathroom\n",
            "Mary went to the bedroom.\n",
            "Daniel moved to the hallway.\n",
            "Where is Sandra?\n",
            "bathroom\n",
            "John went to the garden.\n",
            "John travelled to the office.\n",
            "Where is Sandra?\n",
            "[eval_labels: bathroom]\n",
            "[label_candidates: hallway|bedroom|garden|bathroom|kitchen|...and 1 more]\n",
            "~~\n",
            "[eval_labels_choice]: office\n",
            "[babi:task10k:1]: Sandra travelled to the office.\n",
            "Sandra went to the bathroom.\n",
            "Where is Sandra?\n",
            "bathroom\n",
            "Mary went to the bedroom.\n",
            "Daniel moved to the hallway.\n",
            "Where is Sandra?\n",
            "bathroom\n",
            "John went to the garden.\n",
            "John travelled to the office.\n",
            "Where is Sandra?\n",
            "bathroom\n",
            "Daniel journeyed to the bedroom.\n",
            "Daniel travelled to the hallway.\n",
            "Where is John?\n",
            "[eval_labels: office]\n",
            "[label_candidates: hallway|bedroom|garden|bathroom|kitchen|...and 1 more]\n",
            "~~\n",
            "[eval_labels_choice]: hallway\n",
            "[babi:task10k:1]: Sandra travelled to the office.\n",
            "Sandra went to the bathroom.\n",
            "Where is Sandra?\n",
            "bathroom\n",
            "Mary went to the bedroom.\n",
            "Daniel moved to the hallway.\n",
            "Where is Sandra?\n",
            "bathroom\n",
            "John went to the garden.\n",
            "John travelled to the office.\n",
            "Where is Sandra?\n",
            "bathroom\n",
            "Daniel journeyed to the bedroom.\n",
            "Daniel travelled to the hallway.\n",
            "Where is John?\n",
            "office\n",
            "John went to the bedroom.\n",
            "John travelled to the office.\n",
            "Where is Daniel?\n",
            "[eval_labels: hallway]\n",
            "[label_candidates: hallway|bedroom|garden|bathroom|kitchen|...and 1 more]\n",
            "- - - - - - - - - - - - - - - - - - - - -\n",
            "~~\n",
            "[eval_labels_choice]: garden\n",
            "[babi:task10k:1]: Sandra went back to the bathroom.\n",
            "Mary moved to the garden.\n",
            "Where is Mary?\n",
            "[eval_labels: garden]\n",
            "[label_candidates: hallway|bedroom|garden|bathroom|kitchen|...and 1 more]\n",
            "~~\n",
            "[eval_labels_choice]: office\n",
            "[babi:task10k:1]: Sandra went back to the bathroom.\n",
            "Mary moved to the garden.\n",
            "Where is Mary?\n",
            "garden\n",
            "Mary went back to the hallway.\n",
            "Sandra went to the office.\n",
            "Where is Sandra?\n",
            "[eval_labels: office]\n",
            "[label_candidates: hallway|bedroom|garden|bathroom|kitchen|...and 1 more]\n",
            "~~\n",
            "[eval_labels_choice]: office\n",
            "[babi:task10k:1]: Sandra went back to the bathroom.\n",
            "Mary moved to the garden.\n",
            "Where is Mary?\n",
            "garden\n",
            "Mary went back to the hallway.\n",
            "Sandra went to the office.\n",
            "Where is Sandra?\n",
            "office\n",
            "John went back to the hallway.\n",
            "John travelled to the office.\n",
            "Where is Sandra?\n",
            "[eval_labels: office]\n",
            "[label_candidates: hallway|bedroom|garden|bathroom|kitchen|...and 1 more]\n",
            "~~\n",
            "[eval_labels_choice]: office\n",
            "[babi:task10k:1]: Sandra went back to the bathroom.\n",
            "Mary moved to the garden.\n",
            "Where is Mary?\n",
            "garden\n",
            "Mary went back to the hallway.\n",
            "Sandra went to the office.\n",
            "Where is Sandra?\n",
            "office\n",
            "John went back to the hallway.\n",
            "John travelled to the office.\n",
            "Where is Sandra?\n",
            "office\n",
            "Sandra journeyed to the hallway.\n",
            "Daniel moved to the office.\n",
            "Where is John?\n",
            "[eval_labels: office]\n",
            "[label_candidates: hallway|bedroom|garden|bathroom|kitchen|...and 1 more]\n",
            "~~\n",
            "[eval_labels_choice]: office\n",
            "[babi:task10k:1]: Sandra went back to the bathroom.\n",
            "Mary moved to the garden.\n",
            "Where is Mary?\n",
            "garden\n",
            "Mary went back to the hallway.\n",
            "Sandra went to the office.\n",
            "Where is Sandra?\n",
            "office\n",
            "John went back to the hallway.\n",
            "John travelled to the office.\n",
            "Where is Sandra?\n",
            "office\n",
            "Sandra journeyed to the hallway.\n",
            "Daniel moved to the office.\n",
            "Where is John?\n",
            "office\n",
            "Mary went to the office.\n",
            "Sandra went to the office.\n",
            "Where is John?\n",
            "[eval_labels: office]\n",
            "[label_candidates: hallway|bedroom|garden|bathroom|kitchen|...and 1 more]\n",
            "- - - - - - - - - - - - - - - - - - - - -\n",
            "~~\n"
          ],
          "name": "stdout"
        }
      ]
    },
    {
      "cell_type": "markdown",
      "metadata": {
        "colab_type": "text",
        "id": "DaX_GSktxrz1"
      },
      "source": [
        "### Ranking model: memory network\n",
        "\n",
        "We saw in the class that Memory Networks ([Sukhbaatar et al. 15'](https://papers.nips.cc/paper/5846-end-to-end-memory-networks.pdf)) rely on an explicit memory \"database\". this is especially adapted to tasks where a few useful memories are \"hidden\" among distractor memories.  \n",
        "These type of networks work therefore  especially well for the bAbI tasks by turning the previous dialog turns as memories and the question as the query.  \n",
        "Here is an illustration of how a memory network work:\n",
        "\n",
        "![Memory Network schema](https://raw.githubusercontent.com/louismartin/ammi-2019-bordes-DeepNLP/master/lab1/memory_network.png)\n",
        "\n",
        "\n",
        "---\n",
        "**Question 4**  \n",
        "- **4.d.** Explain how hops work in a memory network (either with words or formulas using the notations of the above figure)\n",
        "- **4.e.** How can a memory network be used to rank multiple candidates?  \n",
        "  (*hint: you can look at the [implementation](https://github.com/facebookresearch/ParlAI/blob/6bd0e58692b3fd3a13b5f654944525ac1b7cd8e3/parlai/agents/memnn/modules.py#L22) of the memory network in ParlAI and especially the `_score()` method. Recall how the IR baseline worked.*)\n",
        "  \n",
        "*ANSWERS *\n",
        "\n",
        "- **4.d.** hops take as input a set of words and a query. each word of of the set will be embedded and convert into a memory vector. the embedding word will form an embedding matrix.Next, we compute the mactch between the embedding of the query and each memory (i.e each column of the embedding matrix) by aplying the softmax of their inner product. that will give the probabilty vector over the inputs.\n",
        "The response vector will be given by the sum over the corresponding output vector weighted by the probability vector from the input.\n",
        "  \n",
        "- **4.e.** To explain how can a memory network be used to rank multiple candidate, we are going to focus on a the _score() method. In fact, we check the number of candidate before computing the score. If it receive 2 candidate it compute as a matrix multiplication between the expected output and the matrix candidate.\n",
        "If it receive 3 candidate it will squeeze the ouput and squeeze the candidate matrix after computing the matrix multiplication. But if receive more than 3 candidates it will give an error.\n",
        " \n",
        "---"
      ]
    },
    {
      "cell_type": "markdown",
      "metadata": {
        "colab_type": "text",
        "id": "YHICORdji1Cx"
      },
      "source": [
        "\n",
        "- **4.f.** Using the ParlAI implementation, train a memory network on bAbI tasks 1, 2 and 3 (10k) and compare its results with the baselines.  \n",
        "   (*hint: use a 1 thread, a batch size of 32 and 5 epochs*)\n"
      ]
    },
    {
      "cell_type": "code",
      "metadata": {
        "colab_type": "code",
        "id": "iKeyD3UYsaFs",
        "outputId": "ab9211e5-0870-4862-a09b-09d612594d02",
        "colab": {
          "base_uri": "https://localhost:8080/",
          "height": 659
        }
      },
      "source": [
        "# FILL CELL\n",
        "for i in range(3):\n",
        "    print(f'~ Task {i+1} ~')\n",
        "    # solution\n",
        "    !python ~/ParlAI/examples/train_model.py -t babi:task10k:{i+1} -m memnn -mf /tmp/babi{i+1}_memnn -bs 32 -eps 5 | grep \"'accuracy':\""
      ],
      "execution_count": 0,
      "outputs": [
        {
          "output_type": "stream",
          "text": [
            "~ Task 1 ~\n",
            "Building dictionary: 100% 9.00k/9.00k [00:00<00:00, 25.5kex/s]\n",
            "/usr/local/lib/python3.6/dist-packages/torch/nn/_reduction.py:43: UserWarning: size_average and reduce args will be deprecated, please use reduction='sum' instead.\n",
            "  warnings.warn(warning.format(ret))\n",
            "/root/ParlAI/parlai/core/torch_ranker_agent.py:376: UserWarning: [ Executing train mode with provided inline set of candidates ]\n",
            "  ''.format(mode)\n",
            "/root/ParlAI/parlai/core/torch_ranker_agent.py:214: UserWarning: Some training metrics are omitted for speed. Set the flag `--train-predict` to calculate train metrics.\n",
            "  \"Some training metrics are omitted for speed. Set the flag \"\n",
            "/root/ParlAI/parlai/core/torch_ranker_agent.py:376: UserWarning: [ Executing eval mode with provided inline set of candidates ]\n",
            "  ''.format(mode)\n",
            "valid:{'exs': 1000, 'accuracy': 0.985, 'f1': 0.985, 'hits@1': 0.985, 'hits@5': 1.0, 'hits@10': 1.0, 'hits@100': 1.0, 'bleu': 9.85e-10, 'lr': 1, 'num_updates': 1407, 'examples': 1000, 'loss': 55.54, 'mean_loss': 0.05554, 'mean_rank': 1.017}\n",
            "test:{'exs': 1000, 'accuracy': 0.992, 'f1': 0.992, 'hits@1': 0.992, 'hits@5': 1.0, 'hits@10': 1.0, 'hits@100': 1.0, 'bleu': 9.92e-10, 'lr': 1, 'num_updates': 1407, 'examples': 1000, 'loss': 38.47, 'mean_loss': 0.03847, 'mean_rank': 1.01}\n",
            "~ Task 2 ~\n",
            "Building dictionary: 100% 9.00k/9.00k [00:00<00:00, 18.3kex/s]\n",
            "/usr/local/lib/python3.6/dist-packages/torch/nn/_reduction.py:43: UserWarning: size_average and reduce args will be deprecated, please use reduction='sum' instead.\n",
            "  warnings.warn(warning.format(ret))\n",
            "/root/ParlAI/parlai/core/torch_ranker_agent.py:376: UserWarning: [ Executing train mode with provided inline set of candidates ]\n",
            "  ''.format(mode)\n",
            "/root/ParlAI/parlai/core/torch_ranker_agent.py:214: UserWarning: Some training metrics are omitted for speed. Set the flag `--train-predict` to calculate train metrics.\n",
            "  \"Some training metrics are omitted for speed. Set the flag \"\n",
            "/root/ParlAI/parlai/core/torch_ranker_agent.py:376: UserWarning: [ Executing eval mode with provided inline set of candidates ]\n",
            "  ''.format(mode)\n",
            "valid:{'exs': 1000, 'accuracy': 0.207, 'f1': 0.207, 'hits@1': 0.207, 'hits@5': 0.847, 'hits@10': 1.0, 'hits@100': 1.0, 'bleu': 2.07e-10, 'lr': 1, 'num_updates': 1407, 'examples': 1000, 'loss': 2496.0, 'mean_loss': 2.496, 'mean_rank': 3.235}\n",
            "test:{'exs': 1000, 'accuracy': 0.206, 'f1': 0.206, 'hits@1': 0.206, 'hits@5': 0.865, 'hits@10': 1.0, 'hits@100': 1.0, 'bleu': 2.06e-10, 'lr': 1, 'num_updates': 1407, 'examples': 1000, 'loss': 2511.0, 'mean_loss': 2.511, 'mean_rank': 3.253}\n",
            "~ Task 3 ~\n",
            "Building dictionary: 100% 9.00k/9.00k [00:01<00:00, 8.47kex/s]\n",
            "/usr/local/lib/python3.6/dist-packages/torch/nn/_reduction.py:43: UserWarning: size_average and reduce args will be deprecated, please use reduction='sum' instead.\n",
            "  warnings.warn(warning.format(ret))\n",
            "/root/ParlAI/parlai/core/torch_ranker_agent.py:376: UserWarning: [ Executing train mode with provided inline set of candidates ]\n",
            "  ''.format(mode)\n",
            "/root/ParlAI/parlai/core/torch_ranker_agent.py:214: UserWarning: Some training metrics are omitted for speed. Set the flag `--train-predict` to calculate train metrics.\n",
            "  \"Some training metrics are omitted for speed. Set the flag \"\n",
            "/root/ParlAI/parlai/core/torch_ranker_agent.py:376: UserWarning: [ Executing eval mode with provided inline set of candidates ]\n",
            "  ''.format(mode)\n",
            "valid:{'exs': 1000, 'accuracy': 0.373, 'f1': 0.373, 'hits@1': 0.373, 'hits@5': 0.971, 'hits@10': 1.0, 'hits@100': 1.0, 'bleu': 3.73e-10, 'lr': 1, 'num_updates': 1407, 'examples': 1000, 'loss': 1837.0, 'mean_loss': 1.837, 'mean_rank': 2.516}\n",
            "test:{'exs': 1000, 'accuracy': 0.361, 'f1': 0.361, 'hits@1': 0.361, 'hits@5': 0.986, 'hits@10': 1.0, 'hits@100': 1.0, 'bleu': 3.61e-10, 'lr': 1, 'num_updates': 1407, 'examples': 1000, 'loss': 1814.0, 'mean_loss': 1.814, 'mean_rank': 2.519}\n"
          ],
          "name": "stdout"
        }
      ]
    },
    {
      "cell_type": "markdown",
      "metadata": {
        "colab_type": "text",
        "id": "DHH0Wy34o3_W"
      },
      "source": [
        "## 5. To go further"
      ]
    },
    {
      "cell_type": "markdown",
      "metadata": {
        "colab_type": "text",
        "id": "zaNGupqLssUB"
      },
      "source": [
        "If you want to go further you can try to do the following:\n",
        "\n",
        "- Retrieve and plot the attention of the memory network for the different hops along the memories.\n",
        "- For the seq2seq model, can you plot the training loss? The validation loss? Both on the same plot?\n",
        "- Can you show an example of overfitting?\n",
        "- Adapt the seq2seq model for ranking using the [torch ranker tutorial](http://www.parl.ai/static/docs/tutorial_torch_ranker_agent.html)\n",
        "- Try multitasking babi and squad, does it improve the performance? (this will require more GPU power than what is available in google colab)\n",
        "- You can play around with other models and other tasks\n",
        "- Try interfacing ParlAI with [messenger](http://www.parl.ai/static/docs/tutorial_messenger.html )"
      ]
    }
  ]
}